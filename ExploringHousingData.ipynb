{
 "cells": [
  {
   "cell_type": "code",
   "execution_count": 74,
   "metadata": {
    "collapsed": true
   },
   "outputs": [],
   "source": [
    "import pandas as pd\n",
    "import matplotlib\n",
    "import numpy as np\n",
    "import matplotlib.pyplot as plt\n",
    "import requests\n",
    "import urllib.parse\n",
    "import json\n",
    "%matplotlib inline  \n",
    "matplotlib.style.use('ggplot')"
   ]
  },
  {
   "cell_type": "code",
   "execution_count": 29,
   "metadata": {
    "collapsed": false
   },
   "outputs": [
    {
     "data": {
      "text/html": [
       "<div>\n",
       "<table border=\"1\" class=\"dataframe\">\n",
       "  <thead>\n",
       "    <tr style=\"text-align: right;\">\n",
       "      <th></th>\n",
       "      <th>RegionID</th>\n",
       "      <th>RegionName</th>\n",
       "      <th>City</th>\n",
       "      <th>State</th>\n",
       "      <th>Metro</th>\n",
       "      <th>CountyName</th>\n",
       "      <th>SizeRank</th>\n",
       "      <th>1998-01</th>\n",
       "      <th>1998-02</th>\n",
       "      <th>1998-03</th>\n",
       "      <th>...</th>\n",
       "      <th>2015-04</th>\n",
       "      <th>2015-05</th>\n",
       "      <th>2015-06</th>\n",
       "      <th>2015-07</th>\n",
       "      <th>2015-08</th>\n",
       "      <th>2015-09</th>\n",
       "      <th>2015-10</th>\n",
       "      <th>2015-11</th>\n",
       "      <th>2015-12</th>\n",
       "      <th>2016-01</th>\n",
       "    </tr>\n",
       "  </thead>\n",
       "  <tbody>\n",
       "    <tr>\n",
       "      <th>288</th>\n",
       "      <td>121697</td>\n",
       "      <td>Columbia Heights</td>\n",
       "      <td>Washington</td>\n",
       "      <td>DC</td>\n",
       "      <td>Washington</td>\n",
       "      <td>District of Columbia</td>\n",
       "      <td>289</td>\n",
       "      <td>1.7339</td>\n",
       "      <td>1.9600</td>\n",
       "      <td>2.3935</td>\n",
       "      <td>...</td>\n",
       "      <td>6.9547</td>\n",
       "      <td>6.8113</td>\n",
       "      <td>6.5245</td>\n",
       "      <td>6.6499</td>\n",
       "      <td>6.7933</td>\n",
       "      <td>6.6320</td>\n",
       "      <td>6.6679</td>\n",
       "      <td>6.5424</td>\n",
       "      <td>6.7396</td>\n",
       "      <td>6.6320</td>\n",
       "    </tr>\n",
       "    <tr>\n",
       "      <th>361</th>\n",
       "      <td>121685</td>\n",
       "      <td>Capitol Hill</td>\n",
       "      <td>Washington</td>\n",
       "      <td>DC</td>\n",
       "      <td>Washington</td>\n",
       "      <td>District of Columbia</td>\n",
       "      <td>362</td>\n",
       "      <td>3.0808</td>\n",
       "      <td>3.3708</td>\n",
       "      <td>3.7453</td>\n",
       "      <td>...</td>\n",
       "      <td>6.0357</td>\n",
       "      <td>5.9048</td>\n",
       "      <td>5.9405</td>\n",
       "      <td>6.0476</td>\n",
       "      <td>5.8929</td>\n",
       "      <td>5.9286</td>\n",
       "      <td>5.8810</td>\n",
       "      <td>5.7500</td>\n",
       "      <td>5.8452</td>\n",
       "      <td>5.7143</td>\n",
       "    </tr>\n",
       "    <tr>\n",
       "      <th>538</th>\n",
       "      <td>121774</td>\n",
       "      <td>Petworth</td>\n",
       "      <td>Washington</td>\n",
       "      <td>DC</td>\n",
       "      <td>Washington</td>\n",
       "      <td>District of Columbia</td>\n",
       "      <td>539</td>\n",
       "      <td>2.2036</td>\n",
       "      <td>2.4376</td>\n",
       "      <td>2.8081</td>\n",
       "      <td>...</td>\n",
       "      <td>5.9351</td>\n",
       "      <td>5.7634</td>\n",
       "      <td>5.5344</td>\n",
       "      <td>5.5534</td>\n",
       "      <td>5.6298</td>\n",
       "      <td>5.7252</td>\n",
       "      <td>5.6870</td>\n",
       "      <td>5.4771</td>\n",
       "      <td>5.2863</td>\n",
       "      <td>5.1527</td>\n",
       "    </tr>\n",
       "    <tr>\n",
       "      <th>655</th>\n",
       "      <td>121668</td>\n",
       "      <td>Adams Morgan</td>\n",
       "      <td>Washington</td>\n",
       "      <td>DC</td>\n",
       "      <td>Washington</td>\n",
       "      <td>District of Columbia</td>\n",
       "      <td>656</td>\n",
       "      <td>1.8207</td>\n",
       "      <td>2.0542</td>\n",
       "      <td>2.3343</td>\n",
       "      <td>...</td>\n",
       "      <td>6.1511</td>\n",
       "      <td>6.0256</td>\n",
       "      <td>6.3018</td>\n",
       "      <td>6.4022</td>\n",
       "      <td>6.4775</td>\n",
       "      <td>6.3018</td>\n",
       "      <td>6.2516</td>\n",
       "      <td>6.2265</td>\n",
       "      <td>6.2265</td>\n",
       "      <td>6.0758</td>\n",
       "    </tr>\n",
       "    <tr>\n",
       "      <th>669</th>\n",
       "      <td>121806</td>\n",
       "      <td>Washington Highlands</td>\n",
       "      <td>Washington</td>\n",
       "      <td>DC</td>\n",
       "      <td>Washington</td>\n",
       "      <td>District of Columbia</td>\n",
       "      <td>670</td>\n",
       "      <td>0.6944</td>\n",
       "      <td>0.8013</td>\n",
       "      <td>1.0150</td>\n",
       "      <td>...</td>\n",
       "      <td>2.7991</td>\n",
       "      <td>2.8540</td>\n",
       "      <td>2.9089</td>\n",
       "      <td>2.9089</td>\n",
       "      <td>2.9089</td>\n",
       "      <td>2.9638</td>\n",
       "      <td>3.1833</td>\n",
       "      <td>3.1284</td>\n",
       "      <td>3.0735</td>\n",
       "      <td>3.1833</td>\n",
       "    </tr>\n",
       "  </tbody>\n",
       "</table>\n",
       "<p>5 rows × 224 columns</p>\n",
       "</div>"
      ],
      "text/plain": [
       "     RegionID            RegionName        City State       Metro  \\\n",
       "288    121697      Columbia Heights  Washington    DC  Washington   \n",
       "361    121685          Capitol Hill  Washington    DC  Washington   \n",
       "538    121774              Petworth  Washington    DC  Washington   \n",
       "655    121668          Adams Morgan  Washington    DC  Washington   \n",
       "669    121806  Washington Highlands  Washington    DC  Washington   \n",
       "\n",
       "               CountyName  SizeRank  1998-01  1998-02  1998-03   ...     \\\n",
       "288  District of Columbia       289   1.7339   1.9600   2.3935   ...      \n",
       "361  District of Columbia       362   3.0808   3.3708   3.7453   ...      \n",
       "538  District of Columbia       539   2.2036   2.4376   2.8081   ...      \n",
       "655  District of Columbia       656   1.8207   2.0542   2.3343   ...      \n",
       "669  District of Columbia       670   0.6944   0.8013   1.0150   ...      \n",
       "\n",
       "     2015-04  2015-05  2015-06  2015-07  2015-08  2015-09  2015-10  2015-11  \\\n",
       "288   6.9547   6.8113   6.5245   6.6499   6.7933   6.6320   6.6679   6.5424   \n",
       "361   6.0357   5.9048   5.9405   6.0476   5.8929   5.9286   5.8810   5.7500   \n",
       "538   5.9351   5.7634   5.5344   5.5534   5.6298   5.7252   5.6870   5.4771   \n",
       "655   6.1511   6.0256   6.3018   6.4022   6.4775   6.3018   6.2516   6.2265   \n",
       "669   2.7991   2.8540   2.9089   2.9089   2.9089   2.9638   3.1833   3.1284   \n",
       "\n",
       "     2015-12  2016-01  \n",
       "288   6.7396   6.6320  \n",
       "361   5.8452   5.7143  \n",
       "538   5.2863   5.1527  \n",
       "655   6.2265   6.0758  \n",
       "669   3.0735   3.1833  \n",
       "\n",
       "[5 rows x 224 columns]"
      ]
     },
     "execution_count": 29,
     "metadata": {},
     "output_type": "execute_result"
    }
   ],
   "source": [
    "turnover_data = pd.read_csv('datasets/Neighborhood_Turnover_AllHomes.csv')\n",
    "\n",
    "turnover_data = turnover_data[turnover_data['State'] == 'DC']\n",
    "\n",
    "turnover_data.head()"
   ]
  },
  {
   "cell_type": "code",
   "execution_count": 93,
   "metadata": {
    "collapsed": false
   },
   "outputs": [],
   "source": [
    "import os\n",
    "os.listdir('datasets/zillow_data')\n",
    "zillow_dfs = {}\n",
    "for fn in os.listdir('datasets/zillow_data'):\n",
    "    if '.csv' in fn:\n",
    "        df = pd.read_csv('datasets/zillow_data/%s' % (fn,))\n",
    "        df = df[df['State'] == 'DC']\n",
    "        df.index = df['RegionName']\n",
    "        wanted_cols = []\n",
    "        for name in df.columns:\n",
    "            if name[0].isdigit():\n",
    "                wanted_cols.append(name)\n",
    "        df = df[wanted_cols]\n",
    "        zillow_dfs[fn.strip('.csv')] = df\n",
    "zillow = pd.Panel(zillow_dfs)"
   ]
  },
  {
   "cell_type": "code",
   "execution_count": 99,
   "metadata": {
    "collapsed": false
   },
   "outputs": [
    {
     "name": "stdout",
     "output_type": "stream",
     "text": [
      "[Index(['Neighborhood_MedianListingPrice_AllHome',\n",
      "       'Neighborhood_MedianRentalPricePerSqft_1Bedroom',\n",
      "       'Neighborhood_MedianRentalPricePerSqft_2Bedroom',\n",
      "       'Neighborhood_MedianRentalPricePerSqft_3Bedroom',\n",
      "       'Neighborhood_MedianRentalPricePerSqft_4Bedroom',\n",
      "       'Neighborhood_MedianRentalPricePerSqft_5BedroomOrMore',\n",
      "       'Neighborhood_MedianRentalPricePerSqft_Sfr',\n",
      "       'Neighborhood_MedianRentalPrice_1Bedroom',\n",
      "       'Neighborhood_MedianRentalPrice_2Bedroom',\n",
      "       'Neighborhood_MedianRentalPrice_3Bedroom',\n",
      "       'Neighborhood_MedianRentalPrice_4Bedroom',\n",
      "       'Neighborhood_MedianRentalPrice_5BedroomOrMore',\n",
      "       'Neighborhood_MedianRentalPrice_CondoCoop',\n",
      "       'Neighborhood_MedianRentalPrice_Sfr',\n",
      "       'Neighborhood_MedianSoldPrice_AllHome',\n",
      "       'Neighborhood_PctOfHomesIncreasingInValues_AllHome',\n",
      "       'Neighborhood_Turnover_AllHome'],\n",
      "      dtype='object'), Index(['Adams Morgan', 'American University Park', 'Anacostia', 'Arboretum',\n",
      "       'Barnaby Woods', 'Barney Circle', 'Barry Farm', 'Bellevue', 'Benning',\n",
      "       'Benning Heights',\n",
      "       ...\n",
      "       'Twining', 'U Street Corridor', 'Wakefield', 'Washington Highlands',\n",
      "       'Wesley Heights', 'West End', 'Woodland-Normanstone Terrace',\n",
      "       'Woodlands', 'Woodley Park', 'Woodridge'],\n",
      "      dtype='object', length=127), Index(['1996-04', '1996-05', '1996-06', '1996-07', '1996-08', '1996-09',\n",
      "       '1996-10', '1996-11', '1996-12', '1997-01',\n",
      "       ...\n",
      "       '2015-04', '2015-05', '2015-06', '2015-07', '2015-08', '2015-09',\n",
      "       '2015-10', '2015-11', '2015-12', '2016-01'],\n",
      "      dtype='object', length=238)]\n",
      "Index(['Adams Morgan', 'American University Park', 'Anacostia', 'Arboretum',\n",
      "       'Barnaby Woods', 'Barney Circle', 'Barry Farm', 'Bellevue', 'Benning',\n",
      "       'Benning Heights',\n",
      "       ...\n",
      "       'Twining', 'U Street Corridor', 'Wakefield', 'Washington Highlands',\n",
      "       'Wesley Heights', 'West End', 'Woodland-Normanstone Terrace',\n",
      "       'Woodlands', 'Woodley Park', 'Woodridge'],\n",
      "      dtype='object', length=127)\n",
      "Index(['1996-04', '1996-05', '1996-06', '1996-07', '1996-08', '1996-09',\n",
      "       '1996-10', '1996-11', '1996-12', '1997-01',\n",
      "       ...\n",
      "       '2015-04', '2015-05', '2015-06', '2015-07', '2015-08', '2015-09',\n",
      "       '2015-10', '2015-11', '2015-12', '2016-01'],\n",
      "      dtype='object', length=238)\n"
     ]
    }
   ],
   "source": [
    "print(zillow.axes)\n",
    "print(zillow.major_axis)\n",
    "print(zillow.minor_axis)"
   ]
  },
  {
   "cell_type": "code",
   "execution_count": 98,
   "metadata": {
    "collapsed": false
   },
   "outputs": [
    {
     "ename": "KeyError",
     "evalue": "'2016-01'",
     "output_type": "error",
     "traceback": [
      "\u001b[0;31m---------------------------------------------------------------------------\u001b[0m",
      "\u001b[0;31mKeyError\u001b[0m                                  Traceback (most recent call last)",
      "\u001b[0;32m<ipython-input-98-35f16ccaadc4>\u001b[0m in \u001b[0;36m<module>\u001b[0;34m()\u001b[0m\n\u001b[0;32m----> 1\u001b[0;31m \u001b[0mzillow\u001b[0m\u001b[0;34m[\u001b[0m\u001b[0;34m'2016-01'\u001b[0m\u001b[0;34m]\u001b[0m\u001b[0;34m\u001b[0m\u001b[0m\n\u001b[0m",
      "\u001b[0;32m/Users/emilyschumm/anaconda/lib/python3.5/site-packages/pandas/core/panel.py\u001b[0m in \u001b[0;36m__getitem__\u001b[0;34m(self, key)\u001b[0m\n\u001b[1;32m    267\u001b[0m             \u001b[0;32mreturn\u001b[0m \u001b[0mself\u001b[0m\u001b[0;34m.\u001b[0m\u001b[0m_getitem_multilevel\u001b[0m\u001b[0;34m(\u001b[0m\u001b[0mkey\u001b[0m\u001b[0;34m)\u001b[0m\u001b[0;34m\u001b[0m\u001b[0m\n\u001b[1;32m    268\u001b[0m         \u001b[0;32mif\u001b[0m \u001b[0;32mnot\u001b[0m \u001b[0;34m(\u001b[0m\u001b[0mis_list_like\u001b[0m\u001b[0;34m(\u001b[0m\u001b[0mkey\u001b[0m\u001b[0;34m)\u001b[0m \u001b[0;32mor\u001b[0m \u001b[0misinstance\u001b[0m\u001b[0;34m(\u001b[0m\u001b[0mkey\u001b[0m\u001b[0;34m,\u001b[0m \u001b[0mslice\u001b[0m\u001b[0;34m)\u001b[0m\u001b[0;34m)\u001b[0m\u001b[0;34m:\u001b[0m\u001b[0;34m\u001b[0m\u001b[0m\n\u001b[0;32m--> 269\u001b[0;31m             \u001b[0;32mreturn\u001b[0m \u001b[0msuper\u001b[0m\u001b[0;34m(\u001b[0m\u001b[0mPanel\u001b[0m\u001b[0;34m,\u001b[0m \u001b[0mself\u001b[0m\u001b[0;34m)\u001b[0m\u001b[0;34m.\u001b[0m\u001b[0m__getitem__\u001b[0m\u001b[0;34m(\u001b[0m\u001b[0mkey\u001b[0m\u001b[0;34m)\u001b[0m\u001b[0;34m\u001b[0m\u001b[0m\n\u001b[0m\u001b[1;32m    270\u001b[0m         \u001b[0;32mreturn\u001b[0m \u001b[0mself\u001b[0m\u001b[0;34m.\u001b[0m\u001b[0mix\u001b[0m\u001b[0;34m[\u001b[0m\u001b[0mkey\u001b[0m\u001b[0;34m]\u001b[0m\u001b[0;34m\u001b[0m\u001b[0m\n\u001b[1;32m    271\u001b[0m \u001b[0;34m\u001b[0m\u001b[0m\n",
      "\u001b[0;32m/Users/emilyschumm/anaconda/lib/python3.5/site-packages/pandas/core/generic.py\u001b[0m in \u001b[0;36m__getitem__\u001b[0;34m(self, item)\u001b[0m\n\u001b[1;32m   1082\u001b[0m \u001b[0;34m\u001b[0m\u001b[0m\n\u001b[1;32m   1083\u001b[0m     \u001b[0;32mdef\u001b[0m \u001b[0m__getitem__\u001b[0m\u001b[0;34m(\u001b[0m\u001b[0mself\u001b[0m\u001b[0;34m,\u001b[0m \u001b[0mitem\u001b[0m\u001b[0;34m)\u001b[0m\u001b[0;34m:\u001b[0m\u001b[0;34m\u001b[0m\u001b[0m\n\u001b[0;32m-> 1084\u001b[0;31m         \u001b[0;32mreturn\u001b[0m \u001b[0mself\u001b[0m\u001b[0;34m.\u001b[0m\u001b[0m_get_item_cache\u001b[0m\u001b[0;34m(\u001b[0m\u001b[0mitem\u001b[0m\u001b[0;34m)\u001b[0m\u001b[0;34m\u001b[0m\u001b[0m\n\u001b[0m\u001b[1;32m   1085\u001b[0m \u001b[0;34m\u001b[0m\u001b[0m\n\u001b[1;32m   1086\u001b[0m     \u001b[0;32mdef\u001b[0m \u001b[0m_get_item_cache\u001b[0m\u001b[0;34m(\u001b[0m\u001b[0mself\u001b[0m\u001b[0;34m,\u001b[0m \u001b[0mitem\u001b[0m\u001b[0;34m)\u001b[0m\u001b[0;34m:\u001b[0m\u001b[0;34m\u001b[0m\u001b[0m\n",
      "\u001b[0;32m/Users/emilyschumm/anaconda/lib/python3.5/site-packages/pandas/core/generic.py\u001b[0m in \u001b[0;36m_get_item_cache\u001b[0;34m(self, item)\u001b[0m\n\u001b[1;32m   1089\u001b[0m         \u001b[0mres\u001b[0m \u001b[0;34m=\u001b[0m \u001b[0mcache\u001b[0m\u001b[0;34m.\u001b[0m\u001b[0mget\u001b[0m\u001b[0;34m(\u001b[0m\u001b[0mitem\u001b[0m\u001b[0;34m)\u001b[0m\u001b[0;34m\u001b[0m\u001b[0m\n\u001b[1;32m   1090\u001b[0m         \u001b[0;32mif\u001b[0m \u001b[0mres\u001b[0m \u001b[0;32mis\u001b[0m \u001b[0;32mNone\u001b[0m\u001b[0;34m:\u001b[0m\u001b[0;34m\u001b[0m\u001b[0m\n\u001b[0;32m-> 1091\u001b[0;31m             \u001b[0mvalues\u001b[0m \u001b[0;34m=\u001b[0m \u001b[0mself\u001b[0m\u001b[0;34m.\u001b[0m\u001b[0m_data\u001b[0m\u001b[0;34m.\u001b[0m\u001b[0mget\u001b[0m\u001b[0;34m(\u001b[0m\u001b[0mitem\u001b[0m\u001b[0;34m)\u001b[0m\u001b[0;34m\u001b[0m\u001b[0m\n\u001b[0m\u001b[1;32m   1092\u001b[0m             \u001b[0mres\u001b[0m \u001b[0;34m=\u001b[0m \u001b[0mself\u001b[0m\u001b[0;34m.\u001b[0m\u001b[0m_box_item_values\u001b[0m\u001b[0;34m(\u001b[0m\u001b[0mitem\u001b[0m\u001b[0;34m,\u001b[0m \u001b[0mvalues\u001b[0m\u001b[0;34m)\u001b[0m\u001b[0;34m\u001b[0m\u001b[0m\n\u001b[1;32m   1093\u001b[0m             \u001b[0mcache\u001b[0m\u001b[0;34m[\u001b[0m\u001b[0mitem\u001b[0m\u001b[0;34m]\u001b[0m \u001b[0;34m=\u001b[0m \u001b[0mres\u001b[0m\u001b[0;34m\u001b[0m\u001b[0m\n",
      "\u001b[0;32m/Users/emilyschumm/anaconda/lib/python3.5/site-packages/pandas/core/internals.py\u001b[0m in \u001b[0;36mget\u001b[0;34m(self, item, fastpath)\u001b[0m\n\u001b[1;32m   3209\u001b[0m \u001b[0;34m\u001b[0m\u001b[0m\n\u001b[1;32m   3210\u001b[0m             \u001b[0;32mif\u001b[0m \u001b[0;32mnot\u001b[0m \u001b[0misnull\u001b[0m\u001b[0;34m(\u001b[0m\u001b[0mitem\u001b[0m\u001b[0;34m)\u001b[0m\u001b[0;34m:\u001b[0m\u001b[0;34m\u001b[0m\u001b[0m\n\u001b[0;32m-> 3211\u001b[0;31m                 \u001b[0mloc\u001b[0m \u001b[0;34m=\u001b[0m \u001b[0mself\u001b[0m\u001b[0;34m.\u001b[0m\u001b[0mitems\u001b[0m\u001b[0;34m.\u001b[0m\u001b[0mget_loc\u001b[0m\u001b[0;34m(\u001b[0m\u001b[0mitem\u001b[0m\u001b[0;34m)\u001b[0m\u001b[0;34m\u001b[0m\u001b[0m\n\u001b[0m\u001b[1;32m   3212\u001b[0m             \u001b[0;32melse\u001b[0m\u001b[0;34m:\u001b[0m\u001b[0;34m\u001b[0m\u001b[0m\n\u001b[1;32m   3213\u001b[0m                 \u001b[0mindexer\u001b[0m \u001b[0;34m=\u001b[0m \u001b[0mnp\u001b[0m\u001b[0;34m.\u001b[0m\u001b[0marange\u001b[0m\u001b[0;34m(\u001b[0m\u001b[0mlen\u001b[0m\u001b[0;34m(\u001b[0m\u001b[0mself\u001b[0m\u001b[0;34m.\u001b[0m\u001b[0mitems\u001b[0m\u001b[0;34m)\u001b[0m\u001b[0;34m)\u001b[0m\u001b[0;34m[\u001b[0m\u001b[0misnull\u001b[0m\u001b[0;34m(\u001b[0m\u001b[0mself\u001b[0m\u001b[0;34m.\u001b[0m\u001b[0mitems\u001b[0m\u001b[0;34m)\u001b[0m\u001b[0;34m]\u001b[0m\u001b[0;34m\u001b[0m\u001b[0m\n",
      "\u001b[0;32m/Users/emilyschumm/anaconda/lib/python3.5/site-packages/pandas/core/index.py\u001b[0m in \u001b[0;36mget_loc\u001b[0;34m(self, key, method, tolerance)\u001b[0m\n\u001b[1;32m   1757\u001b[0m                                  'backfill or nearest lookups')\n\u001b[1;32m   1758\u001b[0m             \u001b[0mkey\u001b[0m \u001b[0;34m=\u001b[0m \u001b[0m_values_from_object\u001b[0m\u001b[0;34m(\u001b[0m\u001b[0mkey\u001b[0m\u001b[0;34m)\u001b[0m\u001b[0;34m\u001b[0m\u001b[0m\n\u001b[0;32m-> 1759\u001b[0;31m             \u001b[0;32mreturn\u001b[0m \u001b[0mself\u001b[0m\u001b[0;34m.\u001b[0m\u001b[0m_engine\u001b[0m\u001b[0;34m.\u001b[0m\u001b[0mget_loc\u001b[0m\u001b[0;34m(\u001b[0m\u001b[0mkey\u001b[0m\u001b[0;34m)\u001b[0m\u001b[0;34m\u001b[0m\u001b[0m\n\u001b[0m\u001b[1;32m   1760\u001b[0m \u001b[0;34m\u001b[0m\u001b[0m\n\u001b[1;32m   1761\u001b[0m         indexer = self.get_indexer([key], method=method,\n",
      "\u001b[0;32mpandas/index.pyx\u001b[0m in \u001b[0;36mpandas.index.IndexEngine.get_loc (pandas/index.c:3979)\u001b[0;34m()\u001b[0m\n",
      "\u001b[0;32mpandas/index.pyx\u001b[0m in \u001b[0;36mpandas.index.IndexEngine.get_loc (pandas/index.c:3843)\u001b[0;34m()\u001b[0m\n",
      "\u001b[0;32mpandas/hashtable.pyx\u001b[0m in \u001b[0;36mpandas.hashtable.PyObjectHashTable.get_item (pandas/hashtable.c:12265)\u001b[0;34m()\u001b[0m\n",
      "\u001b[0;32mpandas/hashtable.pyx\u001b[0m in \u001b[0;36mpandas.hashtable.PyObjectHashTable.get_item (pandas/hashtable.c:12216)\u001b[0;34m()\u001b[0m\n",
      "\u001b[0;31mKeyError\u001b[0m: '2016-01'"
     ]
    }
   ],
   "source": [
    "zillow['2016-01']"
   ]
  },
  {
   "cell_type": "code",
   "execution_count": 30,
   "metadata": {
    "collapsed": true
   },
   "outputs": [],
   "source": [
    "wanted_cols = []\n",
    "for label in s.index:\n",
    "    if label[0].isdigit():\n",
    "        wanted_cols.append(label)"
   ]
  },
  {
   "cell_type": "code",
   "execution_count": 43,
   "metadata": {
    "collapsed": true
   },
   "outputs": [],
   "source": [
    "def plot_neighborhood(name):\n",
    "    s = turnover_data[turnover_data['RegionName'] == name].copy().squeeze()\n",
    "    s[wanted_cols].plot(figsize=(15,5))"
   ]
  },
  {
   "cell_type": "code",
   "execution_count": 17,
   "metadata": {
    "collapsed": false
   },
   "outputs": [
    {
     "data": {
      "text/plain": [
       "['1998-01',\n",
       " '1998-02',\n",
       " '1998-03',\n",
       " '1998-04',\n",
       " '1998-05',\n",
       " '1998-06',\n",
       " '1998-07',\n",
       " '1998-08',\n",
       " '1998-09',\n",
       " '1998-10',\n",
       " '1998-11',\n",
       " '1998-12',\n",
       " '1999-01',\n",
       " '1999-02',\n",
       " '1999-03',\n",
       " '1999-04',\n",
       " '1999-05',\n",
       " '1999-06',\n",
       " '1999-07',\n",
       " '1999-08',\n",
       " '1999-09',\n",
       " '1999-10',\n",
       " '1999-11',\n",
       " '1999-12',\n",
       " '2000-01',\n",
       " '2000-02',\n",
       " '2000-03',\n",
       " '2000-04',\n",
       " '2000-05',\n",
       " '2000-06',\n",
       " '2000-07',\n",
       " '2000-08',\n",
       " '2000-09',\n",
       " '2000-10',\n",
       " '2000-11',\n",
       " '2000-12',\n",
       " '2001-01',\n",
       " '2001-02',\n",
       " '2001-03',\n",
       " '2001-04',\n",
       " '2001-05',\n",
       " '2001-06',\n",
       " '2001-07',\n",
       " '2001-08',\n",
       " '2001-09',\n",
       " '2001-10',\n",
       " '2001-11',\n",
       " '2001-12',\n",
       " '2002-01',\n",
       " '2002-02',\n",
       " '2002-03',\n",
       " '2002-04',\n",
       " '2002-05',\n",
       " '2002-06',\n",
       " '2002-07',\n",
       " '2002-08',\n",
       " '2002-09',\n",
       " '2002-10',\n",
       " '2002-11',\n",
       " '2002-12',\n",
       " '2003-01',\n",
       " '2003-02',\n",
       " '2003-03',\n",
       " '2003-04',\n",
       " '2003-05',\n",
       " '2003-06',\n",
       " '2003-07',\n",
       " '2003-08',\n",
       " '2003-09',\n",
       " '2003-10',\n",
       " '2003-11',\n",
       " '2003-12',\n",
       " '2004-01',\n",
       " '2004-02',\n",
       " '2004-03',\n",
       " '2004-04',\n",
       " '2004-05',\n",
       " '2004-06',\n",
       " '2004-07',\n",
       " '2004-08',\n",
       " '2004-09',\n",
       " '2004-10',\n",
       " '2004-11',\n",
       " '2004-12',\n",
       " '2005-01',\n",
       " '2005-02',\n",
       " '2005-03',\n",
       " '2005-04',\n",
       " '2005-05',\n",
       " '2005-06',\n",
       " '2005-07',\n",
       " '2005-08',\n",
       " '2005-09',\n",
       " '2005-10',\n",
       " '2005-11',\n",
       " '2005-12',\n",
       " '2006-01',\n",
       " '2006-02',\n",
       " '2006-03',\n",
       " '2006-04',\n",
       " '2006-05',\n",
       " '2006-06',\n",
       " '2006-07',\n",
       " '2006-08',\n",
       " '2006-09',\n",
       " '2006-10',\n",
       " '2006-11',\n",
       " '2006-12',\n",
       " '2007-01',\n",
       " '2007-02',\n",
       " '2007-03',\n",
       " '2007-04',\n",
       " '2007-05',\n",
       " '2007-06',\n",
       " '2007-07',\n",
       " '2007-08',\n",
       " '2007-09',\n",
       " '2007-10',\n",
       " '2007-11',\n",
       " '2007-12',\n",
       " '2008-01',\n",
       " '2008-02',\n",
       " '2008-03',\n",
       " '2008-04',\n",
       " '2008-05',\n",
       " '2008-06',\n",
       " '2008-07',\n",
       " '2008-08',\n",
       " '2008-09',\n",
       " '2008-10',\n",
       " '2008-11',\n",
       " '2008-12',\n",
       " '2009-01',\n",
       " '2009-02',\n",
       " '2009-03',\n",
       " '2009-04',\n",
       " '2009-05',\n",
       " '2009-06',\n",
       " '2009-07',\n",
       " '2009-08',\n",
       " '2009-09',\n",
       " '2009-10',\n",
       " '2009-11',\n",
       " '2009-12',\n",
       " '2010-01',\n",
       " '2010-02',\n",
       " '2010-03',\n",
       " '2010-04',\n",
       " '2010-05',\n",
       " '2010-06',\n",
       " '2010-07',\n",
       " '2010-08',\n",
       " '2010-09',\n",
       " '2010-10',\n",
       " '2010-11',\n",
       " '2010-12',\n",
       " '2011-01',\n",
       " '2011-02',\n",
       " '2011-03',\n",
       " '2011-04',\n",
       " '2011-05',\n",
       " '2011-06',\n",
       " '2011-07',\n",
       " '2011-08',\n",
       " '2011-09',\n",
       " '2011-10',\n",
       " '2011-11',\n",
       " '2011-12',\n",
       " '2012-01',\n",
       " '2012-02',\n",
       " '2012-03',\n",
       " '2012-04',\n",
       " '2012-05',\n",
       " '2012-06',\n",
       " '2012-07',\n",
       " '2012-08',\n",
       " '2012-09',\n",
       " '2012-10',\n",
       " '2012-11',\n",
       " '2012-12',\n",
       " '2013-01',\n",
       " '2013-02',\n",
       " '2013-03',\n",
       " '2013-04',\n",
       " '2013-05',\n",
       " '2013-06',\n",
       " '2013-07',\n",
       " '2013-08',\n",
       " '2013-09',\n",
       " '2013-10',\n",
       " '2013-11',\n",
       " '2013-12',\n",
       " '2014-01',\n",
       " '2014-02',\n",
       " '2014-03',\n",
       " '2014-04',\n",
       " '2014-05',\n",
       " '2014-06',\n",
       " '2014-07',\n",
       " '2014-08',\n",
       " '2014-09',\n",
       " '2014-10',\n",
       " '2014-11',\n",
       " '2014-12',\n",
       " '2015-01',\n",
       " '2015-02',\n",
       " '2015-03',\n",
       " '2015-04',\n",
       " '2015-05',\n",
       " '2015-06',\n",
       " '2015-07',\n",
       " '2015-08',\n",
       " '2015-09',\n",
       " '2015-10',\n",
       " '2015-11',\n",
       " '2015-12',\n",
       " '2016-01']"
      ]
     },
     "execution_count": 17,
     "metadata": {},
     "output_type": "execute_result"
    }
   ],
   "source": [
    "wanted_cols"
   ]
  },
  {
   "cell_type": "code",
   "execution_count": 46,
   "metadata": {
    "collapsed": false
   },
   "outputs": [
    {
     "data": {
      "image/png": "[encoded data removed]",
      "text/plain": [
       "<matplotlib.figure.Figure at 0x11ef13390>"
      ]
     },
     "metadata": {},
     "output_type": "display_data"
    }
   ],
   "source": [
    "plot_neighborhood('Shaw')"
   ]
  },
  {
   "cell_type": "code",
   "execution_count": 72,
   "metadata": {
    "collapsed": true
   },
   "outputs": [],
   "source": [
    "holla = requests.get('http://a.tiles.mapbox.com/v4/governing.l25b5j8b/12/1171/1567.grid.json?access_token=pk.eyJ1IjoiZ292ZXJuaW5nIiwiYSI6Ild1eE5kR0UifQ.1usHvL80cRCFBynkF11O2w')"
   ]
  },
  {
   "cell_type": "code",
   "execution_count": 78,
   "metadata": {
    "collapsed": false
   },
   "outputs": [
    {
     "name": "stdout",
     "output_type": "stream",
     "text": [
      "18 Census Tract 73.04\n",
      "26 Census Tract 109\n",
      "8 Census Tract 65\n",
      "2 Census Tract 82\n",
      "22 Census Tract 98.02\n",
      "12 Census Tract 110\n",
      "13 Census Tract 64\n",
      "24 Census Tract 98.10\n",
      "10 Census Tract 70\n",
      "7 Census Tract 105\n",
      "3 Census Tract 81\n",
      "15 Census Tract 73.01\n",
      "5 Census Tract 67\n",
      "14 Census Tract 74.01\n",
      "1 Census Tract 62.02\n",
      "9 Census Tract 69\n",
      "25 Census Tract 98.11\n",
      "4 Census Tract 66\n",
      "19 Census Tract 98.03\n",
      "17 Census Tract 98.04\n",
      "23 Census Tract 97\n",
      "16 Census Tract 104\n",
      "20 Census Tract 98.07\n",
      "21 Census Tract 98.01\n",
      "6 Census Tract 102\n",
      "11 Census Tract 72\n"
     ]
    }
   ],
   "source": [
    "tract_data = json.loads(holla.text)\n",
    "for entry_id,field_dict in tract_data['data'].items():\n",
    "    print(entry_id, field_dict['NAMELSAD'])"
   ]
  },
  {
   "cell_type": "code",
   "execution_count": 73,
   "metadata": {
    "collapsed": false
   },
   "outputs": [
    {
     "data": {
      "text/plain": [
       "'{\"grid\":[\"             !!!  !!!!!!!!!!!!!!!!!!!!!!!!!!!!!!!!!!!!!!!#####$$\",\"           !!!!!   !!!!!!!!!!!!!!!!!!!!!!!!!!!!!!!!!!!!!!#####$$\",\"           !!!!     !!!!!!!!!!!!!!!!!!!!!!!!!!!!!!!!!!!!!!%%%%&&\",\"            !!!!    !!!!!!!!!!!!!!!\\'\\'\\'\\'\\'\\'\\'\\'\\'\\'((((!!!!!!!!!%%%%&&\",\"            !!!!!    !!!!!!!! !!!!!\\'\\'\\'\\'\\'\\'\\'\\'\\'\\'(((((!!!!!!!))%%%&&\",\"             !!!!     !!!!!    !!!!\\'\\'\\'\\'\\'\\'\\'\\'\\'\\'((((((!!!!!!))))%&&\",\"             !!!!!     !!!!     !!!\\'\\'\\'\\'\\'\\'\\'\\'\\'\\'(((((((!)))))))))&*\",\"              !!!!!     !!!!!     !\\'\\'\\'\\'\\'\\'\\'\\'\\'\\'(((((((()))))))))+*\",\"              !!!!!!     !!!!  !!!!\\'\\'\\'\\'\\'\\'\\'\\'\\'\\'(((((((()))))))++++\",\"               !!!!!!     !!!! !!!!! \\'\\'\\'\\'\\'\\'\\'\\'((((((((,,,,)++++++\",\"               !!!!!!!     !!!!!!!!!!\\'\\'\\'\\'\\'\\'\\'\\'((((((((,,,,,,,++++\",\"                    !!!      !!!!!!!!!  \\'\\'\\'\\'\\'((((((((,,,,,,,,,,+\",\"                    !!!!      !!!!!!!!!  \\'\\'\\'\\'\\'\\'((((((,,,,,,,,,,,\",\"                     !!!!      !!!!!!!!!  \\'\\'\\'\\'\\'((((((,,,,,,,,,,,\",\"                      !!!       !!!!!!!!! --\\'\\'\\'((((((,,,,,,,,,,,\",\"                      !!         !!!!!!!!  -----....,,,,,,,,,,,,\",\"                                  !!!!!!!! -----....,,,,,,,,,,,,\",\"                                   !!!!!!!  ----....,,,,,,,,,,,,\",\"                                   !!!!!!!  ----....,,,,     ,,,\",\"                                    !!!!!!! ---.....,,,         \",\"                                     !!!!!!  --.....,,  /////   \",\"                                     !!!!!!  --......   ////////\",\"                                      !!!!!  --......  000//////\",\"                                      !!!!!  --.....   000//////\",\"                                      !!!!!  --.....  0000//////\",\"                                       !!!!  --....   0000//////\",\"                                       !!!!  ---..   00000//////\",\"                                        !!!  ---    00000///////\",\"                                        !!!  --    000000///////\",\"                                        !!!      0000000////////\",\"                                         !!     0000000011//////\",\"                                         !!    000000000111/////\",\"                                          !    0000000011111////\",\"                                              000000000111111///\",\"                                              0000000001111111//\",\"                                             000000000111111111/\",\"                                             0000000001111111111\",\"                                             0000000001111111111\",\"                                            00000000011111111111\",\"                                            00000000011111111111\",\"                                           000000000011111111111\",\"                                           000000000011111111111\",\"                                           000000000011111111111\",\"                                          0000000000011111111111\",\"                                          0000000000011111111233\",\"                                          0000000000011122222233\",\"                                          0000000000011124422223\",\"                                         00000000000011444422223\",\"                                         00000000000011444422223\",\"                                         00000000000514444422223\",\"                                         00000000000544444422666\",\"                                         00000000005544444466666\",\"                                        000000000055444444466666\",\"                                        000000000055444446666666\",\"                                        000000000555444466666666\",\"                                        000000000555444466666666\",\"                                       0000000005555544666677778\",\"                                       000000005555555999:777788\",\"                                       000000005555555999:777788\",\"                                       00000000555555599::::::::\",\"                                       00000000555555599::::::::\",\"                                       000000005555555999:::::: \",\"                                      0000000005555555599:::::  \",\"                                      0000000005555555;;9::::   \"],\"keys\":[\"\",\"1\",\"2\",\"3\",\"4\",\"5\",\"6\",\"7\",\"8\",\"9\",\"10\",\"11\",\"12\",\"13\",\"14\",\"15\",\"16\",\"17\",\"18\",\"19\",\"20\",\"21\",\"22\",\"23\",\"24\",\"25\",\"26\"],\"data\":{\"1\":{\"NAMELSAD\":\"Census Tract 62.02\",\"qgis-inp10\":\"-43\",\"qgis-inp15\":\"Unavailable\",\"qgis-inp18\":\"Unavailable\",\"qgis-inp20\":\"Unavailable\",\"qgis-inp25\":\"7.1\",\"qgis-inp26\":\"Unavailable\",\"qgis-inp_4\":\"Data Unavailable\",\"qgis-inp_7\":\"12\",\"__layer__\":0,\"__l0__\":1},\"2\":{\"NAMELSAD\":\"Census Tract 82\",\"qgis-inp10\":\"-190\",\"qgis-inp15\":\"$58,274\",\"qgis-inp18\":\"$288,000\",\"qgis-inp20\":\"-28%\",\"qgis-inp25\":\"80.6\",\"qgis-inp26\":\"86.4\",\"qgis-inp_4\":\"Tract not gentrification eligible\",\"qgis-inp_7\":\"2,505\",\"__layer__\":0,\"__l0__\":1},\"3\":{\"NAMELSAD\":\"Census Tract 81\",\"qgis-inp10\":\"-209\",\"qgis-inp15\":\"$62,742\",\"qgis-inp18\":\"$229,500\",\"qgis-inp20\":\"-16%\",\"qgis-inp25\":\"56.1\",\"qgis-inp26\":\"68.8\",\"qgis-inp_4\":\"Tract not gentrification eligible\",\"qgis-inp_7\":\"2,527\",\"__layer__\":0,\"__l0__\":1},\"4\":{\"NAMELSAD\":\"Census Tract 66\",\"qgis-inp10\":\"+46\",\"qgis-inp15\":\"$75,761\",\"qgis-inp18\":\"$340,900\",\"qgis-inp20\":\"-14%\",\"qgis-inp25\":\"83.9\",\"qgis-inp26\":\"91.2\",\"qgis-inp_4\":\"Tract not gentrification eligible\",\"qgis-inp_7\":\"1,837\",\"__layer__\":0,\"__l0__\":1},\"5\":{\"NAMELSAD\":\"Census Tract 67\",\"qgis-inp10\":\"+63\",\"qgis-inp15\":\"$76,952\",\"qgis-inp18\":\"$267,300\",\"qgis-inp20\":\"-16%\",\"qgis-inp25\":\"69.7\",\"qgis-inp26\":\"76.2\",\"qgis-inp_4\":\"Tract not gentrification eligible\",\"qgis-inp_7\":\"3,543\",\"__layer__\":0,\"__l0__\":1},\"6\":{\"NAMELSAD\":\"Census Tract 102\",\"qgis-inp10\":\"+335\",\"qgis-inp15\":\"$45,255\",\"qgis-inp18\":\"$112,206\",\"qgis-inp20\":\"-66%\",\"qgis-inp25\":\"67.6\",\"qgis-inp26\":\"66.1\",\"qgis-inp_4\":\"Tract not gentrification eligible\",\"qgis-inp_7\":\"2,444\",\"__layer__\":0,\"__l0__\":1},\"7\":{\"NAMELSAD\":\"Census Tract 105\",\"qgis-inp10\":\"+424\",\"qgis-inp15\":\"$37,305\",\"qgis-inp18\":\"$156,679\",\"qgis-inp20\":\"-28%\",\"qgis-inp25\":\"52.3\",\"qgis-inp26\":\"46.9\",\"qgis-inp_4\":\"Tract not gentrification eligible\",\"qgis-inp_7\":\"3,288\",\"__layer__\":0,\"__l0__\":1},\"8\":{\"NAMELSAD\":\"Census Tract 65\",\"qgis-inp10\":\"+26\",\"qgis-inp15\":\"$61,903\",\"qgis-inp18\":\"$291,100\",\"qgis-inp20\":\"-19%\",\"qgis-inp25\":\"77.5\",\"qgis-inp26\":\"81.4\",\"qgis-inp_4\":\"Tract not gentrification eligible\",\"qgis-inp_7\":\"2,422\",\"__layer__\":0,\"__l0__\":1},\"9\":{\"NAMELSAD\":\"Census Tract 69\",\"qgis-inp10\":\"-224\",\"qgis-inp15\":\"$51,438\",\"qgis-inp18\":\"$170,900\",\"qgis-inp20\":\"-21%\",\"qgis-inp25\":\"39.4\",\"qgis-inp26\":\"48.4\",\"qgis-inp_4\":\"Tract not gentrification eligible\",\"qgis-inp_7\":\"1,854\",\"__layer__\":0,\"__l0__\":1},\"10\":{\"NAMELSAD\":\"Census Tract 70\",\"qgis-inp10\":\"-18\",\"qgis-inp15\":\"$67,109\",\"qgis-inp18\":\"$221,800\",\"qgis-inp20\":\"-25%\",\"qgis-inp25\":\"68.2\",\"qgis-inp26\":\"70.4\",\"qgis-inp_4\":\"Tract not gentrification eligible\",\"qgis-inp_7\":\"2,132\",\"__layer__\":0,\"__l0__\":1},\"11\":{\"NAMELSAD\":\"Census Tract 72\",\"qgis-inp10\":\"-208\",\"qgis-inp15\":\"$8,089\",\"qgis-inp18\":\"$126,800\",\"qgis-inp20\":\"+26%\",\"qgis-inp25\":\"15.6\",\"qgis-inp26\":\"5.8\",\"qgis-inp_4\":\"Did not experience gentrification\",\"qgis-inp_7\":\"1,825\",\"__layer__\":0,\"__l0__\":1},\"12\":{\"NAMELSAD\":\"Census Tract 110\",\"qgis-inp10\":\"-186\",\"qgis-inp15\":\"$44,889\",\"qgis-inp18\":\"$88,582\",\"qgis-inp20\":\"-54%\",\"qgis-inp25\":\"65.8\",\"qgis-inp26\":\"59.2\",\"qgis-inp_4\":\"Tract not gentrification eligible\",\"qgis-inp_7\":\"3,878\",\"__layer__\":0,\"__l0__\":1},\"13\":{\"NAMELSAD\":\"Census Tract 64\",\"qgis-inp10\":\"-339\",\"qgis-inp15\":\"$13,292\",\"qgis-inp18\":\"$108,361\",\"qgis-inp20\":\"-20%\",\"qgis-inp25\":\"12.6\",\"qgis-inp26\":\"8.8\",\"qgis-inp_4\":\"Did not experience gentrification\",\"qgis-inp_7\":\"2,241\",\"__layer__\":0,\"__l0__\":1},\"14\":{\"NAMELSAD\":\"Census Tract 74.01\",\"qgis-inp10\":\"+313\",\"qgis-inp15\":\"$14,083\",\"qgis-inp18\":\"$102,500\",\"qgis-inp20\":\"-1%\",\"qgis-inp25\":\"4.3\",\"qgis-inp26\":\"1.8\",\"qgis-inp_4\":\"Did not experience gentrification\",\"qgis-inp_7\":\"2,996\",\"__layer__\":0,\"__l0__\":1},\"15\":{\"NAMELSAD\":\"Census Tract 73.01\",\"qgis-inp10\":\"-2,532\",\"qgis-inp15\":\"$49,122\",\"qgis-inp18\":\"$95,000\",\"qgis-inp20\":\"-6%\",\"qgis-inp25\":\"25.1\",\"qgis-inp26\":\"36\",\"qgis-inp_4\":\"Did not experience gentrification\",\"qgis-inp_7\":\"5,233\",\"__layer__\":0,\"__l0__\":1},\"16\":{\"NAMELSAD\":\"Census Tract 104\",\"qgis-inp10\":\"-1,735\",\"qgis-inp15\":\"$32,795\",\"qgis-inp18\":\"$96,900\",\"qgis-inp20\":\"-12%\",\"qgis-inp25\":\"5.4\",\"qgis-inp26\":\"10.1\",\"qgis-inp_4\":\"Did not experience gentrification\",\"qgis-inp_7\":\"3,985\",\"__layer__\":0,\"__l0__\":1},\"17\":{\"NAMELSAD\":\"Census Tract 98.04\",\"qgis-inp10\":\"-215\",\"qgis-inp15\":\"$22,539\",\"qgis-inp18\":\"$100,900\",\"qgis-inp20\":\"-13%\",\"qgis-inp25\":\"8.6\",\"qgis-inp26\":\"7.4\",\"qgis-inp_4\":\"Did not experience gentrification\",\"qgis-inp_7\":\"2,566\",\"__layer__\":0,\"__l0__\":1},\"18\":{\"NAMELSAD\":\"Census Tract 73.04\",\"qgis-inp10\":\"+190\",\"qgis-inp15\":\"$22,550\",\"qgis-inp18\":\"$99,100\",\"qgis-inp20\":\"-17%\",\"qgis-inp25\":\"7.1\",\"qgis-inp26\":\"5.3\",\"qgis-inp_4\":\"Did not experience gentrification\",\"qgis-inp_7\":\"4,665\",\"__layer__\":0,\"__l0__\":1},\"19\":{\"NAMELSAD\":\"Census Tract 98.03\",\"qgis-inp10\":\"-575\",\"qgis-inp15\":\"$23,292\",\"qgis-inp18\":\"$100,600\",\"qgis-inp20\":\"-3%\",\"qgis-inp25\":\"6.4\",\"qgis-inp26\":\"11.2\",\"qgis-inp_4\":\"Did not experience gentrification\",\"qgis-inp_7\":\"2,236\",\"__layer__\":0,\"__l0__\":1},\"20\":{\"NAMELSAD\":\"Census Tract 98.07\",\"qgis-inp10\":\"-146\",\"qgis-inp15\":\"$30,076\",\"qgis-inp18\":\"$98,900\",\"qgis-inp20\":\"-11%\",\"qgis-inp25\":\"13\",\"qgis-inp26\":\"9.7\",\"qgis-inp_4\":\"Did not experience gentrification\",\"qgis-inp_7\":\"3,238\",\"__layer__\":0,\"__l0__\":1},\"21\":{\"NAMELSAD\":\"Census Tract 98.01\",\"qgis-inp10\":\"-564\",\"qgis-inp15\":\"$16,250\",\"qgis-inp18\":\"$87,800\",\"qgis-inp20\":\"-8%\",\"qgis-inp25\":\"6.7\",\"qgis-inp26\":\"3.1\",\"qgis-inp_4\":\"Did not experience gentrification\",\"qgis-inp_7\":\"2,091\",\"__layer__\":0,\"__l0__\":1},\"22\":{\"NAMELSAD\":\"Census Tract 98.02\",\"qgis-inp10\":\"-403\",\"qgis-inp15\":\"$25,871\",\"qgis-inp18\":\"$86,200\",\"qgis-inp20\":\"-12%\",\"qgis-inp25\":\"3.8\",\"qgis-inp26\":\"2.7\",\"qgis-inp_4\":\"Did not experience gentrification\",\"qgis-inp_7\":\"1,806\",\"__layer__\":0,\"__l0__\":1},\"23\":{\"NAMELSAD\":\"Census Tract 97\",\"qgis-inp10\":\"-2,104\",\"qgis-inp15\":\"$33,086\",\"qgis-inp18\":\"$98,500\",\"qgis-inp20\":\"-12%\",\"qgis-inp25\":\"6.3\",\"qgis-inp26\":\"4.9\",\"qgis-inp_4\":\"Did not experience gentrification\",\"qgis-inp_7\":\"2,309\",\"__layer__\":0,\"__l0__\":1},\"24\":{\"NAMELSAD\":\"Census Tract 98.10\",\"qgis-inp10\":\"-492\",\"qgis-inp15\":\"$20,167\",\"qgis-inp18\":\"$98,500\",\"qgis-inp20\":\"-11%\",\"qgis-inp25\":\"4.3\",\"qgis-inp26\":\"6.3\",\"qgis-inp_4\":\"Did not experience gentrification\",\"qgis-inp_7\":\"2,209\",\"__layer__\":0,\"__l0__\":1},\"25\":{\"NAMELSAD\":\"Census Tract 98.11\",\"qgis-inp10\":\"-834\",\"qgis-inp15\":\"$20,167\",\"qgis-inp18\":\"$98,500\",\"qgis-inp20\":\"-11%\",\"qgis-inp25\":\"4.3\",\"qgis-inp26\":\"6.3\",\"qgis-inp_4\":\"Did not experience gentrification\",\"qgis-inp_7\":\"3,739\",\"__layer__\":0,\"__l0__\":1},\"26\":{\"NAMELSAD\":\"Census Tract 109\",\"qgis-inp10\":\"-244\",\"qgis-inp15\":\"$25,708\",\"qgis-inp18\":\"$69,800\",\"qgis-inp20\":\"-33%\",\"qgis-inp25\":\"7.8\",\"qgis-inp26\":\"5.5\",\"qgis-inp_4\":\"Did not experience gentrification\",\"qgis-inp_7\":\"2,845\",\"__layer__\":0,\"__l0__\":1}}}'"
      ]
     },
     "execution_count": 73,
     "metadata": {},
     "output_type": "execute_result"
    }
   ],
   "source": [
    "holla.text"
   ]
  },
  {
   "cell_type": "code",
   "execution_count": 69,
   "metadata": {
    "collapsed": false
   },
   "outputs": [
    {
     "name": "stdout",
     "output_type": "stream",
     "text": [
      "http://www.zillow.com/webservice/GetRegionChildren.htm?zws-id=X1-ZWz1f6uljmmr63_9d4gz&state=wa&city=seattle&childtype=neighborhood\n"
     ]
    }
   ],
   "source": [
    "api_key = 'X1-ZWz1f6uljmmr63_9d4gz'\n",
    "zillow_url = 'http://www.zillow.com/webservice/GetRegionChildren.htm?zws-id=X1-ZWz1f6uljmmr63_9d4gz&state=wa&city=seattle&childtype=neighborhood'\n",
    "print(zillow_url)\n",
    "r = requests.get(zillow_url)"
   ]
  },
  {
   "cell_type": "code",
   "execution_count": 70,
   "metadata": {
    "collapsed": false
   },
   "outputs": [
    {
     "data": {
      "text/plain": [
       "200"
      ]
     },
     "execution_count": 70,
     "metadata": {},
     "output_type": "execute_result"
    }
   ],
   "source": [
    "r.status_code"
   ]
  },
  {
   "cell_type": "code",
   "execution_count": 71,
   "metadata": {
    "collapsed": false
   },
   "outputs": [
    {
     "data": {
      "text/plain": [
       "'<?xml version=\"1.0\" encoding=\"utf-8\"?><RegionChildren:regionchildren xsi:schemaLocation=\"http://www.zillow.com/static/xsd/RegionChildren.xsd http://www.zillowstatic.com/vstatic/9041678/static/xsd/RegionChildren.xsd\" xmlns:xsi=\"http://www.w3.org/2001/XMLSchema-instance\" xmlns:RegionChildren=\"http://www.zillow.com/static/xsd/RegionChildren.xsd\"><request><state>wa</state><city>seattle</city><childtype>neighborhood</childtype></request><message><text>Error: this account is not authorized to execute this API call</text><code>6</code></message></RegionChildren:regionchildren><!-- H:002  T:0ms  S:153  R:Sat Mar 05 08:59:36 PST 2016  B:4.0.25909-master.a723596~hotfix_pre.53ac87d -->'"
      ]
     },
     "execution_count": 71,
     "metadata": {},
     "output_type": "execute_result"
    }
   ],
   "source": [
    "r.text"
   ]
  },
  {
   "cell_type": "code",
   "execution_count": 67,
   "metadata": {
    "collapsed": false
   },
   "outputs": [],
   "source": [
    "url2 = 'http://www.zillow.com/webservice/GetDeepComps.htm?zws-id=X1-ZWz1f6uljmmr63_9d4gz&zpid=407624&count=20'\n",
    "r2 = requests.get(url2)"
   ]
  },
  {
   "cell_type": "code",
   "execution_count": 68,
   "metadata": {
    "collapsed": false
   },
   "outputs": [
    {
     "data": {
      "text/plain": [
       "'<?xml version=\"1.0\" encoding=\"utf-8\"?><Comps:comps xsi:schemaLocation=\"http://www.zillow.com/static/xsd/Comps.xsd http://www.zillowstatic.com/vstatic/9041678/static/xsd/Comps.xsd\" xmlns:xsi=\"http://www.w3.org/2001/XMLSchema-instance\" xmlns:Comps=\"http://www.zillow.com/static/xsd/Comps.xsd\"><request><zpid>407624</zpid><count>20</count></request><message><text>Request successfully processed</text><code>0</code></message><response><properties><principal><zpid>407624</zpid><links><homedetails>http://www.zillow.com/homedetails/1702-10th-St-NW-Washington-DC-20001/407624_zpid/</homedetails><graphsanddata>http://www.zillow.com/homedetails/1702-10th-St-NW-Washington-DC-20001/407624_zpid/#charts-and-data</graphsanddata><mapthishome>http://www.zillow.com/homes/407624_zpid/</mapthishome><comparables>http://www.zillow.com/homes/comps/407624_zpid/</comparables></links><address><street>1702 10th St NW</street><zipcode>20001</zipcode><city>Washington</city><state>DC</state><latitude>38.912804</latitude><longitude>-77.026318</longitude></address><taxAssessmentYear>2015</taxAssessmentYear><taxAssessment>507070.0</taxAssessment><yearBuilt>1890</yearBuilt><lotSizeSqFt>1247</lotSizeSqFt><finishedSqFt>1144</finishedSqFt><bathrooms>2.5</bathrooms><bedrooms>3</bedrooms><totalRooms>6</totalRooms><zestimate><amount currency=\"USD\">702508</amount><last-updated>03/04/2016</last-updated><oneWeekChange deprecated=\"true\"></oneWeekChange><valueChange duration=\"30\" currency=\"USD\">-128</valueChange><valuationRange><low currency=\"USD\">667383</low><high currency=\"USD\">758709</high></valuationRange><percentile>77</percentile></zestimate><localRealEstate><region name=\"Logan Circle\" id=\"121754\" type=\"neighborhood\"><zindexValue>557,000</zindexValue><links><overview>http://www.zillow.com/local-info/DC-Washington/Logan-Circle/r_121754/</overview><forSaleByOwner>http://www.zillow.com/logan-circle-washington-dc/fsbo/</forSaleByOwner><forSale>http://www.zillow.com/logan-circle-washington-dc/</forSale></links></region></localRealEstate></principal><comparables><comp score=\"18.0\"><zpid>395971</zpid><links><homedetails>http://www.zillow.com/homedetails/1230-23rd-St-NW-APT-705-Washington-DC-20037/395971_zpid/</homedetails><graphsanddata>http://www.zillow.com/homedetails/1230-23rd-St-NW-APT-705-Washington-DC-20037/395971_zpid/#charts-and-data</graphsanddata><mapthishome>http://www.zillow.com/homes/395971_zpid/</mapthishome><comparables>http://www.zillow.com/homes/comps/395971_zpid/</comparables></links><address><street>1230 23rd St NW APT 705</street><zipcode>20037</zipcode><city>Washington</city><state>DC</state><latitude>38.905918</latitude><longitude>-77.050147</longitude></address><taxAssessmentYear>2015</taxAssessmentYear><taxAssessment>351210.0</taxAssessment><yearBuilt>1989</yearBuilt><lotSizeSqFt>147</lotSizeSqFt><finishedSqFt>600</finishedSqFt><bathrooms>1.0</bathrooms><bedrooms>1</bedrooms><totalRooms>4</totalRooms><lastSoldDate>05/11/2015</lastSoldDate><lastSoldPrice currency=\"USD\">419000</lastSoldPrice><zestimate><amount currency=\"USD\"></amount><last-updated>12/31/1969</last-updated><oneWeekChange deprecated=\"true\"></oneWeekChange><valueChange></valueChange><valuationRange><low currency=\"USD\"></low><high currency=\"USD\"></high></valuationRange><percentile>0</percentile></zestimate><localRealEstate><region name=\"West End\" id=\"121808\" type=\"neighborhood\"><zindexValue>601,200</zindexValue><links><overview>http://www.zillow.com/local-info/DC-Washington/West-End/r_121808/</overview><forSaleByOwner>http://www.zillow.com/west-end-washington-dc/fsbo/</forSaleByOwner><forSale>http://www.zillow.com/west-end-washington-dc/</forSale></links></region></localRealEstate></comp><comp score=\"13.0\"><zpid>396865</zpid><links><homedetails>http://www.zillow.com/homedetails/1317-22nd-St-NW-Washington-DC-20037/396865_zpid/</homedetails><graphsanddata>http://www.zillow.com/homedetails/1317-22nd-St-NW-Washington-DC-20037/396865_zpid/#charts-and-data</graphsanddata><mapthishome>http://www.zillow.com/homes/396865_zpid/</mapthishome><comparables>http://www.zillow.com/homes/comps/396865_zpid/</comparables></links><address><street>1317 22nd St NW</street><zipcode>20037</zipcode><city>Washington</city><state>DC</state><latitude>38.907796</latitude><longitude>-77.048469</longitude></address><taxAssessmentYear>2015</taxAssessmentYear><taxAssessment>947090.0</taxAssessment><yearBuilt>1900</yearBuilt><lotSizeSqFt>1600</lotSizeSqFt><finishedSqFt>1888</finishedSqFt><bathrooms>3.0</bathrooms><bedrooms>3</bedrooms><totalRooms>8</totalRooms><lastSoldDate>04/03/2015</lastSoldDate><lastSoldPrice currency=\"USD\">1109000</lastSoldPrice><zestimate><amount currency=\"USD\">1206380</amount><last-updated>03/04/2016</last-updated><oneWeekChange deprecated=\"true\"></oneWeekChange><valueChange duration=\"30\" currency=\"USD\">2692</valueChange><valuationRange><low currency=\"USD\">1121933</low><high currency=\"USD\">1339082</high></valuationRange><percentile>89</percentile></zestimate><localRealEstate><region name=\"Dupont Circle\" id=\"121704\" type=\"neighborhood\"><zindexValue>412,300</zindexValue><links><overview>http://www.zillow.com/local-info/DC-Washington/Dupont-Circle/r_121704/</overview><forSaleByOwner>http://www.zillow.com/dupont-circle-washington-dc/fsbo/</forSaleByOwner><forSale>http://www.zillow.com/dupont-circle-washington-dc/</forSale></links></region></localRealEstate></comp><comp score=\"10.0\"><zpid>398223</zpid><links><homedetails>http://www.zillow.com/homedetails/1330-New-Hampshire-Ave-NW-APT-315-Washington-DC-20036/398223_zpid/</homedetails><graphsanddata>http://www.zillow.com/homedetails/1330-New-Hampshire-Ave-NW-APT-315-Washington-DC-20036/398223_zpid/#charts-and-data</graphsanddata><mapthishome>http://www.zillow.com/homes/398223_zpid/</mapthishome><comparables>http://www.zillow.com/homes/comps/398223_zpid/</comparables></links><address><street>1330 New Hampshire Ave NW APT 315</street><zipcode>20036</zipcode><city>Washington</city><state>DC</state><latitude>38.908165</latitude><longitude>-77.045</longitude></address><taxAssessmentYear>2015</taxAssessmentYear><taxAssessment>504530.0</taxAssessment><yearBuilt>1963</yearBuilt><lotSizeSqFt>187</lotSizeSqFt><finishedSqFt>979</finishedSqFt><bathrooms>1.0</bathrooms><bedrooms>2</bedrooms><totalRooms>5</totalRooms><lastSoldDate>06/30/2015</lastSoldDate><lastSoldPrice currency=\"USD\">570000</lastSoldPrice><zestimate><amount currency=\"USD\">566481</amount><last-updated>03/04/2016</last-updated><oneWeekChange deprecated=\"true\"></oneWeekChange><valueChange duration=\"30\" currency=\"USD\">4665</valueChange><valuationRange><low currency=\"USD\">526827</low><high currency=\"USD\">611799</high></valuationRange><percentile>85</percentile></zestimate><localRealEstate><region name=\"Dupont Circle\" id=\"121704\" type=\"neighborhood\"><zindexValue>412,300</zindexValue><links><overview>http://www.zillow.com/local-info/DC-Washington/Dupont-Circle/r_121704/</overview><forSaleByOwner>http://www.zillow.com/dupont-circle-washington-dc/fsbo/</forSaleByOwner><forSale>http://www.zillow.com/dupont-circle-washington-dc/</forSale></links></region></localRealEstate></comp><comp score=\"5.0\"><zpid>399916</zpid><links><homedetails>http://www.zillow.com/homedetails/1737-Willard-St-NW-APT-7-Washington-DC-20009/399916_zpid/</homedetails><graphsanddata>http://www.zillow.com/homedetails/1737-Willard-St-NW-APT-7-Washington-DC-20009/399916_zpid/#charts-and-data</graphsanddata><mapthishome>http://www.zillow.com/homes/399916_zpid/</mapthishome><comparables>http://www.zillow.com/homes/comps/399916_zpid/</comparables></links><address><street>1737 Willard St NW APT 7</street><zipcode>20009</zipcode><city>Washington</city><state>DC</state><latitude>38.91634</latitude><longitude>-77.039694</longitude></address><taxAssessmentYear>2015</taxAssessmentYear><taxAssessment>535430.0</taxAssessment><yearBuilt>1911</yearBuilt><lotSizeSqFt>406</lotSizeSqFt><finishedSqFt>1080</finishedSqFt><bathrooms>2.0</bathrooms><bedrooms>2</bedrooms><totalRooms>4</totalRooms><lastSoldDate>10/02/2015</lastSoldDate><lastSoldPrice currency=\"USD\">660500</lastSoldPrice><zestimate><amount currency=\"USD\">639301</amount><last-updated>03/04/2016</last-updated><oneWeekChange deprecated=\"true\"></oneWeekChange><valueChange duration=\"30\" currency=\"USD\">2794</valueChange><valuationRange><low currency=\"USD\">600943</low><high currency=\"USD\">677659</high></valuationRange><percentile>61</percentile></zestimate><localRealEstate><region name=\"Dupont Circle\" id=\"121704\" type=\"neighborhood\"><zindexValue>412,300</zindexValue><links><overview>http://www.zillow.com/local-info/DC-Washington/Dupont-Circle/r_121704/</overview><forSaleByOwner>http://www.zillow.com/dupont-circle-washington-dc/fsbo/</forSaleByOwner><forSale>http://www.zillow.com/dupont-circle-washington-dc/</forSale></links></region></localRealEstate></comp><comp score=\"17.0\"><zpid>401504</zpid><links><homedetails>http://www.zillow.com/homedetails/1545-18th-St-NW-UNIT-403-Washington-DC-20036/401504_zpid/</homedetails><graphsanddata>http://www.zillow.com/homedetails/1545-18th-St-NW-UNIT-403-Washington-DC-20036/401504_zpid/#charts-and-data</graphsanddata><mapthishome>http://www.zillow.com/homes/401504_zpid/</mapthishome><comparables>http://www.zillow.com/homes/comps/401504_zpid/</comparables></links><address><street>1545 18th St NW UNIT 403</street><zipcode>20036</zipcode><city>Washington</city><state>DC</state><latitude>38.910647</latitude><longitude>-77.041612</longitude></address><taxAssessmentYear>2015</taxAssessmentYear><taxAssessment>361180.0</taxAssessment><yearBuilt>1960</yearBuilt><lotSizeSqFt>137</lotSizeSqFt><finishedSqFt>711</finishedSqFt><bathrooms>1.0</bathrooms><bedrooms>1</bedrooms><totalRooms>3</totalRooms><lastSoldDate>08/25/2015</lastSoldDate><lastSoldPrice currency=\"USD\">372000</lastSoldPrice><zestimate><amount currency=\"USD\"></amount><last-updated>12/31/1969</last-updated><oneWeekChange deprecated=\"true\"></oneWeekChange><valueChange></valueChange><valuationRange><low currency=\"USD\"></low><high currency=\"USD\"></high></valuationRange><percentile>0</percentile></zestimate><localRealEstate><region name=\"Dupont Circle\" id=\"121704\" type=\"neighborhood\"><zindexValue>412,300</zindexValue><links><overview>http://www.zillow.com/local-info/DC-Washington/Dupont-Circle/r_121704/</overview><forSaleByOwner>http://www.zillow.com/dupont-circle-washington-dc/fsbo/</forSaleByOwner><forSale>http://www.zillow.com/dupont-circle-washington-dc/</forSale></links></region></localRealEstate></comp><comp score=\"5.0\"><zpid>404884</zpid><links><homedetails>http://www.zillow.com/homedetails/1715-15th-St-NW-APT-36-Washington-DC-20009/404884_zpid/</homedetails><graphsanddata>http://www.zillow.com/homedetails/1715-15th-St-NW-APT-36-Washington-DC-20009/404884_zpid/#charts-and-data</graphsanddata><mapthishome>http://www.zillow.com/homes/404884_zpid/</mapthishome><comparables>http://www.zillow.com/homes/comps/404884_zpid/</comparables></links><address><street>1715 15th St NW APT 36</street><zipcode>20009</zipcode><city>Washington</city><state>DC</state><latitude>38.913297</latitude><longitude>-77.034482</longitude></address><taxAssessmentYear>2015</taxAssessmentYear><taxAssessment>535300.0</taxAssessment><yearBuilt>1929</yearBuilt><lotSizeSqFt>546</lotSizeSqFt><finishedSqFt>1011</finishedSqFt><bathrooms>2.0</bathrooms><bedrooms>2</bedrooms><totalRooms>5</totalRooms><lastSoldDate>06/09/2015</lastSoldDate><lastSoldPrice currency=\"USD\">640100</lastSoldPrice><zestimate><amount currency=\"USD\">591509</amount><last-updated>03/04/2016</last-updated><oneWeekChange deprecated=\"true\"></oneWeekChange><valueChange duration=\"30\" currency=\"USD\">4896</valueChange><valuationRange><low currency=\"USD\">561934</low><high currency=\"USD\">621084</high></valuationRange><percentile>56</percentile></zestimate><localRealEstate><region name=\"Logan Circle\" id=\"121754\" type=\"neighborhood\"><zindexValue>557,000</zindexValue><links><overview>http://www.zillow.com/local-info/DC-Washington/Logan-Circle/r_121754/</overview><forSaleByOwner>http://www.zillow.com/logan-circle-washington-dc/fsbo/</forSaleByOwner><forSale>http://www.zillow.com/logan-circle-washington-dc/</forSale></links></region></localRealEstate></comp><comp score=\"5.0\"><zpid>406301</zpid><links><homedetails>http://www.zillow.com/homedetails/1312-Massachusetts-Ave-NW-APT-301-Washington-DC-20005/406301_zpid/</homedetails><graphsanddata>http://www.zillow.com/homedetails/1312-Massachusetts-Ave-NW-APT-301-Washington-DC-20005/406301_zpid/#charts-and-data</graphsanddata><mapthishome>http://www.zillow.com/homes/406301_zpid/</mapthishome><comparables>http://www.zillow.com/homes/comps/406301_zpid/</comparables></links><address><street>1312 Massachusetts Ave NW APT 301</street><zipcode>20005</zipcode><city>Washington</city><state>DC</state><latitude>38.904865</latitude><longitude>-77.030087</longitude></address><taxAssessmentYear>2015</taxAssessmentYear><taxAssessment>551820.0</taxAssessment><yearBuilt>1949</yearBuilt><lotSizeSqFt>307</lotSizeSqFt><finishedSqFt>1154</finishedSqFt><bathrooms>2.0</bathrooms><bedrooms>2</bedrooms><totalRooms>6</totalRooms><lastSoldDate>07/20/2015</lastSoldDate><lastSoldPrice currency=\"USD\">639110</lastSoldPrice><zestimate><amount currency=\"USD\">599891</amount><last-updated>03/04/2016</last-updated><oneWeekChange deprecated=\"true\"></oneWeekChange><valueChange duration=\"30\" currency=\"USD\">364</valueChange><valuationRange><low currency=\"USD\">551900</low><high currency=\"USD\">647882</high></valuationRange><percentile>68</percentile></zestimate><localRealEstate><region name=\"Downtown\" id=\"273489\" type=\"neighborhood\"><zindexValue>455,800</zindexValue><links><overview>http://www.zillow.com/local-info/DC-Washington/Downtown/r_273489/</overview><forSaleByOwner>http://www.zillow.com/downtown-washington-dc/fsbo/</forSaleByOwner><forSale>http://www.zillow.com/downtown-washington-dc/</forSale></links></region></localRealEstate></comp><comp score=\"7.0\"><zpid>406819</zpid><links><homedetails>http://www.zillow.com/homedetails/1325-13th-St-NW-APT-13-Washington-DC-20005/406819_zpid/</homedetails><graphsanddata>http://www.zillow.com/homedetails/1325-13th-St-NW-APT-13-Washington-DC-20005/406819_zpid/#charts-and-data</graphsanddata><mapthishome>http://www.zillow.com/homes/406819_zpid/</mapthishome><comparables>http://www.zillow.com/homes/comps/406819_zpid/</comparables></links><address><street>1325 13th St NW APT 13</street><zipcode>20005</zipcode><city>Washington</city><state>DC</state><latitude>38.907638</latitude><longitude>-77.029552</longitude></address><taxAssessmentYear>2015</taxAssessmentYear><taxAssessment>650550.0</taxAssessment><yearBuilt>1875</yearBuilt><lotSizeSqFt>681</lotSizeSqFt><finishedSqFt>730</finishedSqFt><bathrooms>1.0</bathrooms><bedrooms>1</bedrooms><totalRooms>5</totalRooms><lastSoldDate>06/05/2015</lastSoldDate><lastSoldPrice currency=\"USD\">669900</lastSoldPrice><zestimate><amount currency=\"USD\">571673</amount><last-updated>03/04/2016</last-updated><oneWeekChange deprecated=\"true\"></oneWeekChange><valueChange duration=\"30\" currency=\"USD\">499</valueChange><valuationRange><low currency=\"USD\">520222</low><high currency=\"USD\">634557</high></valuationRange><percentile>64</percentile></zestimate><localRealEstate><region name=\"Logan Circle\" id=\"121754\" type=\"neighborhood\"><zindexValue>557,000</zindexValue><links><overview>http://www.zillow.com/local-info/DC-Washington/Logan-Circle/r_121754/</overview><forSaleByOwner>http://www.zillow.com/logan-circle-washington-dc/fsbo/</forSaleByOwner><forSale>http://www.zillow.com/logan-circle-washington-dc/</forSale></links></region></localRealEstate></comp><comp score=\"3.0\"><zpid>407555</zpid><links><homedetails>http://www.zillow.com/homedetails/1913-11th-St-NW-Washington-DC-20001/407555_zpid/</homedetails><graphsanddata>http://www.zillow.com/homedetails/1913-11th-St-NW-Washington-DC-20001/407555_zpid/#charts-and-data</graphsanddata><mapthishome>http://www.zillow.com/homes/407555_zpid/</mapthishome><comparables>http://www.zillow.com/homes/comps/407555_zpid/</comparables></links><address><street>1913 11th St NW</street><zipcode>20001</zipcode><city>Washington</city><state>DC</state><latitude>38.916171</latitude><longitude>-77.026683</longitude></address><taxAssessmentYear>2015</taxAssessmentYear><taxAssessment>709070.0</taxAssessment><yearBuilt>1910</yearBuilt><lotSizeSqFt>1596</lotSizeSqFt><finishedSqFt>1546</finishedSqFt><bathrooms>2.0</bathrooms><bedrooms>2</bedrooms><totalRooms>6</totalRooms><lastSoldDate>04/21/2015</lastSoldDate><lastSoldPrice currency=\"USD\">751000</lastSoldPrice><zestimate><amount currency=\"USD\">984858</amount><last-updated>03/04/2016</last-updated><oneWeekChange deprecated=\"true\"></oneWeekChange><valueChange duration=\"30\" currency=\"USD\">34</valueChange><valuationRange><low currency=\"USD\">886372</low><high currency=\"USD\">1053798</high></valuationRange><percentile>94</percentile></zestimate><localRealEstate><region name=\"Shaw\" id=\"121785\" type=\"neighborhood\"><zindexValue>676,000</zindexValue><links><overview>http://www.zillow.com/local-info/DC-Washington/Shaw/r_121785/</overview><forSaleByOwner>http://www.zillow.com/shaw-washington-dc/fsbo/</forSaleByOwner><forSale>http://www.zillow.com/shaw-washington-dc/</forSale></links></region></localRealEstate></comp><comp score=\"3.0\"><zpid>407564</zpid><links><homedetails>http://www.zillow.com/homedetails/1929-11th-St-NW-Washington-DC-20001/407564_zpid/</homedetails><graphsanddata>http://www.zillow.com/homedetails/1929-11th-St-NW-Washington-DC-20001/407564_zpid/#charts-and-data</graphsanddata><mapthishome>http://www.zillow.com/homes/407564_zpid/</mapthishome><comparables>http://www.zillow.com/homes/comps/407564_zpid/</comparables></links><address><street>1929 11th St NW</street><zipcode>20001</zipcode><city>Washington</city><state>DC</state><latitude>38.916577</latitude><longitude>-77.026683</longitude></address><taxAssessmentYear>2015</taxAssessmentYear><taxAssessment>724660.0</taxAssessment><yearBuilt>1900</yearBuilt><lotSizeSqFt>1878</lotSizeSqFt><finishedSqFt>2048</finishedSqFt><bathrooms>2.0</bathrooms><bedrooms>4</bedrooms><totalRooms>12</totalRooms><lastSoldDate>07/13/2015</lastSoldDate><lastSoldPrice currency=\"USD\">700000</lastSoldPrice><zestimate><amount currency=\"USD\">1012680</amount><last-updated>03/04/2016</last-updated><oneWeekChange deprecated=\"true\"></oneWeekChange><valueChange duration=\"30\" currency=\"USD\">-10646</valueChange><valuationRange><low currency=\"USD\">931666</low><high currency=\"USD\">1093694</high></valuationRange><percentile>95</percentile></zestimate><localRealEstate><region name=\"Shaw\" id=\"121785\" type=\"neighborhood\"><zindexValue>676,000</zindexValue><links><overview>http://www.zillow.com/local-info/DC-Washington/Shaw/r_121785/</overview><forSaleByOwner>http://www.zillow.com/shaw-washington-dc/fsbo/</forSaleByOwner><forSale>http://www.zillow.com/shaw-washington-dc/</forSale></links></region></localRealEstate></comp><comp score=\"4.0\"><zpid>407727</zpid><links><homedetails>http://www.zillow.com/homedetails/1254-10th-St-NW-Washington-DC-20001/407727_zpid/</homedetails><graphsanddata>http://www.zillow.com/homedetails/1254-10th-St-NW-Washington-DC-20001/407727_zpid/#charts-and-data</graphsanddata><mapthishome>http://www.zillow.com/homes/407727_zpid/</mapthishome><comparables>http://www.zillow.com/homes/comps/407727_zpid/</comparables></links><address><street>1254 10th St NW</street><zipcode>20001</zipcode><city>Washington</city><state>DC</state><latitude>38.906942</latitude><longitude>-77.026298</longitude></address><taxAssessmentYear>2015</taxAssessmentYear><taxAssessment>682380.0</taxAssessment><yearBuilt>1905</yearBuilt><lotSizeSqFt>1181</lotSizeSqFt><finishedSqFt>1620</finishedSqFt><bathrooms>3.0</bathrooms><bedrooms>3</bedrooms><totalRooms>7</totalRooms><lastSoldDate>01/20/2016</lastSoldDate><lastSoldPrice currency=\"USD\">785000</lastSoldPrice><zestimate><amount currency=\"USD\">941013</amount><last-updated>03/04/2016</last-updated><oneWeekChange deprecated=\"true\"></oneWeekChange><valueChange duration=\"30\" currency=\"USD\">1573</valueChange><valuationRange><low currency=\"USD\">893962</low><high currency=\"USD\">988064</high></valuationRange><percentile>94</percentile></zestimate><localRealEstate><region name=\"Logan Circle\" id=\"121754\" type=\"neighborhood\"><zindexValue>557,000</zindexValue><links><overview>http://www.zillow.com/local-info/DC-Washington/Logan-Circle/r_121754/</overview><forSaleByOwner>http://www.zillow.com/logan-circle-washington-dc/fsbo/</forSaleByOwner><forSale>http://www.zillow.com/logan-circle-washington-dc/</forSale></links></region></localRealEstate></comp><comp score=\"2.0\"><zpid>408059</zpid><links><homedetails>http://www.zillow.com/homedetails/930-S-St-NW-Washington-DC-20001/408059_zpid/</homedetails><graphsanddata>http://www.zillow.com/homedetails/930-S-St-NW-Washington-DC-20001/408059_zpid/#charts-and-data</graphsanddata><mapthishome>http://www.zillow.com/homes/408059_zpid/</mapthishome><comparables>http://www.zillow.com/homes/comps/408059_zpid/</comparables></links><address><street>930 S St NW</street><zipcode>20001</zipcode><city>Washington</city><state>DC</state><latitude>38.913842</latitude><longitude>-77.025153</longitude></address><taxAssessmentYear>2015</taxAssessmentYear><taxAssessment>617960.0</taxAssessment><yearBuilt>1890</yearBuilt><lotSizeSqFt>1900</lotSizeSqFt><finishedSqFt>1670</finishedSqFt><bathrooms>3.0</bathrooms><bedrooms>3</bedrooms><totalRooms>8</totalRooms><lastSoldDate>02/01/2016</lastSoldDate><lastSoldPrice currency=\"USD\">779251</lastSoldPrice><zestimate><amount currency=\"USD\">836451</amount><last-updated>03/04/2016</last-updated><oneWeekChange deprecated=\"true\"></oneWeekChange><valueChange duration=\"30\" currency=\"USD\">-7240</valueChange><valuationRange><low currency=\"USD\">794628</low><high currency=\"USD\">886638</high></valuationRange><percentile>90</percentile></zestimate><localRealEstate><region name=\"Logan Circle\" id=\"121754\" type=\"neighborhood\"><zindexValue>557,000</zindexValue><links><overview>http://www.zillow.com/local-info/DC-Washington/Logan-Circle/r_121754/</overview><forSaleByOwner>http://www.zillow.com/logan-circle-washington-dc/fsbo/</forSaleByOwner><forSale>http://www.zillow.com/logan-circle-washington-dc/</forSale></links></region></localRealEstate></comp><comp score=\"9.0\"><zpid>408761</zpid><links><homedetails>http://www.zillow.com/homedetails/616-R-St-NW-Washington-DC-20001/408761_zpid/</homedetails><graphsanddata>http://www.zillow.com/homedetails/616-R-St-NW-Washington-DC-20001/408761_zpid/#charts-and-data</graphsanddata><mapthishome>http://www.zillow.com/homes/408761_zpid/</mapthishome><comparables>http://www.zillow.com/homes/comps/408761_zpid/</comparables></links><address><street>616 R St NW</street><zipcode>20001</zipcode><city>Washington</city><state>DC</state><latitude>38.91238</latitude><longitude>-77.020675</longitude></address><taxAssessmentYear>2015</taxAssessmentYear><taxAssessment>553130.0</taxAssessment><yearBuilt>1910</yearBuilt><lotSizeSqFt>1232</lotSizeSqFt><finishedSqFt>950</finishedSqFt><bathrooms>1.0</bathrooms><bedrooms>2</bedrooms><totalRooms>12</totalRooms><lastSoldDate>03/20/2015</lastSoldDate><lastSoldPrice currency=\"USD\">975000</lastSoldPrice><zestimate><amount currency=\"USD\"></amount><last-updated>12/31/1969</last-updated><oneWeekChange deprecated=\"true\"></oneWeekChange><valueChange></valueChange><valuationRange><low currency=\"USD\"></low><high currency=\"USD\"></high></valuationRange><percentile>0</percentile></zestimate><localRealEstate><region name=\"Shaw\" id=\"121785\" type=\"neighborhood\"><zindexValue>676,000</zindexValue><links><overview>http://www.zillow.com/local-info/DC-Washington/Shaw/r_121785/</overview><forSaleByOwner>http://www.zillow.com/shaw-washington-dc/fsbo/</forSaleByOwner><forSale>http://www.zillow.com/shaw-washington-dc/</forSale></links></region></localRealEstate></comp><comp score=\"4.0\"><zpid>409695</zpid><links><homedetails>http://www.zillow.com/homedetails/1835-6th-St-NW-APT-2-Washington-DC-20001/409695_zpid/</homedetails><graphsanddata>http://www.zillow.com/homedetails/1835-6th-St-NW-APT-2-Washington-DC-20001/409695_zpid/#charts-and-data</graphsanddata><mapthishome>http://www.zillow.com/homes/409695_zpid/</mapthishome><comparables>http://www.zillow.com/homes/comps/409695_zpid/</comparables></links><address><street>1835 6th St NW APT 2</street><zipcode>20001</zipcode><city>Washington</city><state>DC</state><latitude>38.914909</latitude><longitude>-77.019568</longitude></address><taxAssessmentYear>2015</taxAssessmentYear><taxAssessment>577580.0</taxAssessment><yearBuilt>1918</yearBuilt><lotSizeSqFt>1763</lotSizeSqFt><finishedSqFt>1834</finishedSqFt><bathrooms>2.0</bathrooms><bedrooms>4</bedrooms><totalRooms>6</totalRooms><lastSoldDate>06/08/2015</lastSoldDate><lastSoldPrice currency=\"USD\">681770</lastSoldPrice><zestimate><amount currency=\"USD\">896061</amount><last-updated>03/04/2016</last-updated><oneWeekChange deprecated=\"true\"></oneWeekChange><valueChange duration=\"30\" currency=\"USD\">19328</valueChange><valuationRange><low currency=\"USD\">851258</low><high currency=\"USD\">940864</high></valuationRange><percentile>92</percentile></zestimate><localRealEstate><region name=\"Shaw\" id=\"121785\" type=\"neighborhood\"><zindexValue>676,000</zindexValue><links><overview>http://www.zillow.com/local-info/DC-Washington/Shaw/r_121785/</overview><forSaleByOwner>http://www.zillow.com/shaw-washington-dc/fsbo/</forSaleByOwner><forSale>http://www.zillow.com/shaw-washington-dc/</forSale></links></region></localRealEstate></comp><comp score=\"10.0\"><zpid>409732</zpid><links><homedetails>http://www.zillow.com/homedetails/1724-5th-St-NW-Washington-DC-20001/409732_zpid/</homedetails><graphsanddata>http://www.zillow.com/homedetails/1724-5th-St-NW-Washington-DC-20001/409732_zpid/#charts-and-data</graphsanddata><mapthishome>http://www.zillow.com/homes/409732_zpid/</mapthishome><comparables>http://www.zillow.com/homes/comps/409732_zpid/</comparables></links><address><street>1724 5th St NW</street><zipcode>20001</zipcode><city>Washington</city><state>DC</state><latitude>38.913875</latitude><longitude>-77.019225</longitude></address><taxAssessmentYear>2015</taxAssessmentYear><taxAssessment>573940.0</taxAssessment><yearBuilt>1900</yearBuilt><lotSizeSqFt>1770</lotSizeSqFt><finishedSqFt>2200</finishedSqFt><bathrooms>3.0</bathrooms><bedrooms>4</bedrooms><totalRooms>6</totalRooms><lastSoldDate>05/15/2015</lastSoldDate><lastSoldPrice currency=\"USD\">1100100</lastSoldPrice><zestimate><amount currency=\"USD\">920528</amount><last-updated>03/04/2016</last-updated><oneWeekChange deprecated=\"true\"></oneWeekChange><valueChange duration=\"30\" currency=\"USD\">30967</valueChange><valuationRange><low currency=\"USD\">874502</low><high currency=\"USD\">966554</high></valuationRange><percentile>93</percentile></zestimate><localRealEstate><region name=\"Shaw\" id=\"121785\" type=\"neighborhood\"><zindexValue>676,000</zindexValue><links><overview>http://www.zillow.com/local-info/DC-Washington/Shaw/r_121785/</overview><forSaleByOwner>http://www.zillow.com/shaw-washington-dc/fsbo/</forSaleByOwner><forSale>http://www.zillow.com/shaw-washington-dc/</forSale></links></region></localRealEstate></comp><comp score=\"5.0\"><zpid>410586</zpid><links><homedetails>http://www.zillow.com/homedetails/440-Rhode-Island-Ave-NW-Washington-DC-20001/410586_zpid/</homedetails><graphsanddata>http://www.zillow.com/homedetails/440-Rhode-Island-Ave-NW-Washington-DC-20001/410586_zpid/#charts-and-data</graphsanddata><mapthishome>http://www.zillow.com/homes/410586_zpid/</mapthishome><comparables>http://www.zillow.com/homes/comps/410586_zpid/</comparables></links><address><street>440 Rhode Island Ave NW</street><zipcode>20001</zipcode><city>Washington</city><state>DC</state><latitude>38.913194</latitude><longitude>-77.018424</longitude></address><taxAssessmentYear>2008</taxAssessmentYear><taxAssessment>608410.0</taxAssessment><yearBuilt>2009</yearBuilt><lotSizeSqFt>7695</lotSizeSqFt><finishedSqFt>1000</finishedSqFt><bathrooms>2.0</bathrooms><bedrooms>2</bedrooms><totalRooms>6</totalRooms><lastSoldDate>11/18/2015</lastSoldDate><lastSoldPrice currency=\"USD\">599000</lastSoldPrice><zestimate><amount currency=\"USD\">697890</amount><last-updated>03/04/2016</last-updated><oneWeekChange deprecated=\"true\"></oneWeekChange><valueChange duration=\"30\" currency=\"USD\">-13550</valueChange><valuationRange><low currency=\"USD\">642059</low><high currency=\"USD\">746742</high></valuationRange><percentile>76</percentile></zestimate><localRealEstate><region name=\"Shaw\" id=\"121785\" type=\"neighborhood\"><zindexValue>676,000</zindexValue><links><overview>http://www.zillow.com/local-info/DC-Washington/Shaw/r_121785/</overview><forSaleByOwner>http://www.zillow.com/shaw-washington-dc/fsbo/</forSaleByOwner><forSale>http://www.zillow.com/shaw-washington-dc/</forSale></links></region></localRealEstate></comp><comp score=\"7.0\"><zpid>410975</zpid><links><homedetails>http://www.zillow.com/homedetails/319-R-St-NW-Washington-DC-20001/410975_zpid/</homedetails><graphsanddata>http://www.zillow.com/homedetails/319-R-St-NW-Washington-DC-20001/410975_zpid/#charts-and-data</graphsanddata><mapthishome>http://www.zillow.com/homes/410975_zpid/</mapthishome><comparables>http://www.zillow.com/homes/comps/410975_zpid/</comparables></links><address><street>319 R St NW</street><zipcode>20001</zipcode><city>Washington</city><state>DC</state><latitude>38.912845</latitude><longitude>-77.016002</longitude></address><taxAssessmentYear>2015</taxAssessmentYear><taxAssessment>523830.0</taxAssessment><yearBuilt>1900</yearBuilt><lotSizeSqFt>1310</lotSizeSqFt><finishedSqFt>2218</finishedSqFt><bathrooms>2.0</bathrooms><bedrooms>8</bedrooms><totalRooms>10</totalRooms><lastSoldDate>06/16/2015</lastSoldDate><lastSoldPrice currency=\"USD\">750000</lastSoldPrice><zestimate><amount currency=\"USD\">808666</amount><last-updated>03/04/2016</last-updated><oneWeekChange deprecated=\"true\"></oneWeekChange><valueChange duration=\"30\" currency=\"USD\">20160</valueChange><valuationRange><low currency=\"USD\">752059</low><high currency=\"USD\">849099</high></valuationRange><percentile>89</percentile></zestimate><localRealEstate><region name=\"Truxton Circle\" id=\"121800\" type=\"neighborhood\"><zindexValue>595,100</zindexValue><links><overview>http://www.zillow.com/local-info/DC-Washington/Truxton-Circle/r_121800/</overview><forSaleByOwner>http://www.zillow.com/truxton-circle-washington-dc/fsbo/</forSaleByOwner><forSale>http://www.zillow.com/truxton-circle-washington-dc/</forSale></links></region></localRealEstate></comp><comp score=\"7.0\"><zpid>412082</zpid><links><homedetails>http://www.zillow.com/homedetails/137-P-St-NW-Washington-DC-20001/412082_zpid/</homedetails><graphsanddata>http://www.zillow.com/homedetails/137-P-St-NW-Washington-DC-20001/412082_zpid/#charts-and-data</graphsanddata><mapthishome>http://www.zillow.com/homes/412082_zpid/</mapthishome><comparables>http://www.zillow.com/homes/comps/412082_zpid/</comparables></links><address><street>137 P St NW</street><zipcode>20001</zipcode><city>Washington</city><state>DC</state><latitude>38.90989</latitude><longitude>-77.013541</longitude></address><taxAssessmentYear>2015</taxAssessmentYear><taxAssessment>554130.0</taxAssessment><yearBuilt>1906</yearBuilt><lotSizeSqFt>1597</lotSizeSqFt><finishedSqFt>2250</finishedSqFt><bathrooms>3.0</bathrooms><bedrooms>5</bedrooms><totalRooms>8</totalRooms><lastSoldDate>09/16/2015</lastSoldDate><lastSoldPrice currency=\"USD\">800000</lastSoldPrice><zestimate><amount currency=\"USD\"></amount><last-updated>12/31/1969</last-updated><oneWeekChange deprecated=\"true\"></oneWeekChange><valueChange></valueChange><valuationRange><low currency=\"USD\"></low><high currency=\"USD\"></high></valuationRange><percentile>0</percentile></zestimate><localRealEstate><region name=\"Truxton Circle\" id=\"121800\" type=\"neighborhood\"><zindexValue>595,100</zindexValue><links><overview>http://www.zillow.com/local-info/DC-Washington/Truxton-Circle/r_121800/</overview><forSaleByOwner>http://www.zillow.com/truxton-circle-washington-dc/fsbo/</forSaleByOwner><forSale>http://www.zillow.com/truxton-circle-washington-dc/</forSale></links></region></localRealEstate></comp><comp score=\"10.0\"><zpid>412569</zpid><links><homedetails>http://www.zillow.com/homedetails/1-N-St-NW-Washington-DC-20001/412569_zpid/</homedetails><graphsanddata>http://www.zillow.com/homedetails/1-N-St-NW-Washington-DC-20001/412569_zpid/#charts-and-data</graphsanddata><mapthishome>http://www.zillow.com/homes/412569_zpid/</mapthishome><comparables>http://www.zillow.com/homes/comps/412569_zpid/</comparables></links><address><street>1 N St NW</street><zipcode>20001</zipcode><city>Washington</city><state>DC</state><latitude>38.907478</latitude><longitude>-77.009657</longitude></address><taxAssessmentYear>2015</taxAssessmentYear><taxAssessment>651330.0</taxAssessment><yearBuilt>1900</yearBuilt><lotSizeSqFt>1727</lotSizeSqFt><finishedSqFt>1986</finishedSqFt><bathrooms>5.5</bathrooms><bedrooms>5</bedrooms><totalRooms>8</totalRooms><lastSoldDate>02/24/2016</lastSoldDate><lastSoldPrice currency=\"USD\">570000</lastSoldPrice><zestimate><amount currency=\"USD\">809798</amount><last-updated>03/04/2016</last-updated><oneWeekChange deprecated=\"true\"></oneWeekChange><valueChange duration=\"30\" currency=\"USD\">3310</valueChange><valuationRange><low currency=\"USD\">745014</low><high currency=\"USD\">874582</high></valuationRange><percentile>89</percentile></zestimate><localRealEstate><region name=\"Truxton Circle\" id=\"121800\" type=\"neighborhood\"><zindexValue>595,100</zindexValue><links><overview>http://www.zillow.com/local-info/DC-Washington/Truxton-Circle/r_121800/</overview><forSaleByOwner>http://www.zillow.com/truxton-circle-washington-dc/fsbo/</forSaleByOwner><forSale>http://www.zillow.com/truxton-circle-washington-dc/</forSale></links></region></localRealEstate></comp><comp score=\"11.0\"><zpid>413099</zpid><links><homedetails>http://www.zillow.com/homedetails/16-N-Carolina-Ave-SE-Washington-DC-20003/413099_zpid/</homedetails><graphsanddata>http://www.zillow.com/homedetails/16-N-Carolina-Ave-SE-Washington-DC-20003/413099_zpid/#charts-and-data</graphsanddata><mapthishome>http://www.zillow.com/homes/413099_zpid/</mapthishome><comparables>http://www.zillow.com/homes/comps/413099_zpid/</comparables></links><address><street>16 N Carolina Ave SE</street><zipcode>20003</zipcode><city>Washington</city><state>DC</state><latitude>38.883638</latitude><longitude>-77.006225</longitude></address><taxAssessmentYear>2014</taxAssessmentYear><taxAssessment>793310.0</taxAssessment><yearBuilt>1910</yearBuilt><lotSizeSqFt>1031</lotSizeSqFt><finishedSqFt>1304</finishedSqFt><bathrooms>2.0</bathrooms><bedrooms>3</bedrooms><totalRooms>6</totalRooms><lastSoldDate>05/11/2015</lastSoldDate><lastSoldPrice currency=\"USD\">613880</lastSoldPrice><zestimate><amount currency=\"USD\">886022</amount><last-updated>03/04/2016</last-updated><oneWeekChange deprecated=\"true\"></oneWeekChange><valueChange duration=\"30\" currency=\"USD\">464</valueChange><valuationRange><low currency=\"USD\">824000</low><high currency=\"USD\">930323</high></valuationRange><percentile>76</percentile></zestimate><localRealEstate><region name=\"Capitol Hill\" id=\"121685\" type=\"neighborhood\"><zindexValue>728,400</zindexValue><links><overview>http://www.zillow.com/local-info/DC-Washington/Capitol-Hill/r_121685/</overview><forSaleByOwner>http://www.zillow.com/capitol-hill-washington-dc/fsbo/</forSaleByOwner><forSale>http://www.zillow.com/capitol-hill-washington-dc/</forSale></links></region></localRealEstate></comp></comparables></properties></response></Comps:comps><!-- H:001  T:50ms  S:20314  R:Sat Mar 05 08:58:55 PST 2016  B:4.0.25909-master.a723596~hotfix_pre.53ac87d -->'"
      ]
     },
     "execution_count": 68,
     "metadata": {},
     "output_type": "execute_result"
    }
   ],
   "source": [
    "r2.text"
   ]
  },
  {
   "cell_type": "code",
   "execution_count": null,
   "metadata": {
    "collapsed": true
   },
   "outputs": [],
   "source": []
  }
 ],
 "metadata": {
  "kernelspec": {
   "display_name": "Python 3",
   "language": "python",
   "name": "python3"
  },
  "language_info": {
   "codemirror_mode": {
    "name": "ipython",
    "version": 3
   },
   "file_extension": ".py",
   "mimetype": "text/x-python",
   "name": "python",
   "nbconvert_exporter": "python",
   "pygments_lexer": "ipython3",
   "version": "3.5.1"
  }
 },
 "nbformat": 4,
 "nbformat_minor": 0
}
