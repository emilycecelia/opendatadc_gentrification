{
 "cells": [
  {
   "cell_type": "code",
   "execution_count": 1,
   "metadata": {
    "collapsed": true
   },
   "outputs": [],
   "source": [
    "import pandas as pd"
   ]
  },
  {
   "cell_type": "code",
   "execution_count": 3,
   "metadata": {
    "collapsed": false
   },
   "outputs": [],
   "source": [
    "df = pd.read_csv('datasets/ACS_14_5YR_S1101_2.csv')"
   ]
  },
  {
   "cell_type": "code",
   "execution_count": 4,
   "metadata": {
    "collapsed": false
   },
   "outputs": [
    {
     "data": {
      "text/html": [
       "<div>\n",
       "<table border=\"1\" class=\"dataframe\">\n",
       "  <thead>\n",
       "    <tr style=\"text-align: right;\">\n",
       "      <th></th>\n",
       "      <th>GEO.id</th>\n",
       "      <th>GEO.display-label</th>\n",
       "      <th>TotalHH</th>\n",
       "      <th>AvgHHSize</th>\n",
       "      <th>NonFamilyHHSize</th>\n",
       "      <th>HHChildren18</th>\n",
       "      <th>TotalHHNonFamily</th>\n",
       "      <th>HHOwnerOcc</th>\n",
       "      <th>HHRentOcc</th>\n",
       "      <th>GEO.id2</th>\n",
       "    </tr>\n",
       "  </thead>\n",
       "  <tbody>\n",
       "    <tr>\n",
       "      <th>0</th>\n",
       "      <td>1400000US11001000100</td>\n",
       "      <td>Census Tract 1, District of Columbia, District...</td>\n",
       "      <td>2446</td>\n",
       "      <td>2.12</td>\n",
       "      <td>1.32</td>\n",
       "      <td>505</td>\n",
       "      <td>1239</td>\n",
       "      <td>53.5</td>\n",
       "      <td>46.5</td>\n",
       "      <td>11001000100</td>\n",
       "    </tr>\n",
       "    <tr>\n",
       "      <th>1</th>\n",
       "      <td>1400000US11001000201</td>\n",
       "      <td>Census Tract 2.01, District of Columbia, Distr...</td>\n",
       "      <td>4</td>\n",
       "      <td>2.75</td>\n",
       "      <td>-</td>\n",
       "      <td>0</td>\n",
       "      <td>0</td>\n",
       "      <td>100</td>\n",
       "      <td>0</td>\n",
       "      <td>11001000201</td>\n",
       "    </tr>\n",
       "    <tr>\n",
       "      <th>2</th>\n",
       "      <td>1400000US11001000202</td>\n",
       "      <td>Census Tract 2.02, District of Columbia, Distr...</td>\n",
       "      <td>1672</td>\n",
       "      <td>2.15</td>\n",
       "      <td>1.78</td>\n",
       "      <td>214</td>\n",
       "      <td>1129</td>\n",
       "      <td>65.8</td>\n",
       "      <td>34.2</td>\n",
       "      <td>11001000202</td>\n",
       "    </tr>\n",
       "    <tr>\n",
       "      <th>3</th>\n",
       "      <td>1400000US11001000300</td>\n",
       "      <td>Census Tract 3, District of Columbia, District...</td>\n",
       "      <td>2563</td>\n",
       "      <td>2.37</td>\n",
       "      <td>1.99</td>\n",
       "      <td>455</td>\n",
       "      <td>1556</td>\n",
       "      <td>52.9</td>\n",
       "      <td>47.1</td>\n",
       "      <td>11001000300</td>\n",
       "    </tr>\n",
       "    <tr>\n",
       "      <th>4</th>\n",
       "      <td>1400000US11001000400</td>\n",
       "      <td>Census Tract 4, District of Columbia, District...</td>\n",
       "      <td>597</td>\n",
       "      <td>2.49</td>\n",
       "      <td>1.52</td>\n",
       "      <td>129</td>\n",
       "      <td>234</td>\n",
       "      <td>72.9</td>\n",
       "      <td>27.1</td>\n",
       "      <td>11001000400</td>\n",
       "    </tr>\n",
       "  </tbody>\n",
       "</table>\n",
       "</div>"
      ],
      "text/plain": [
       "                 GEO.id                                  GEO.display-label  \\\n",
       "0  1400000US11001000100  Census Tract 1, District of Columbia, District...   \n",
       "1  1400000US11001000201  Census Tract 2.01, District of Columbia, Distr...   \n",
       "2  1400000US11001000202  Census Tract 2.02, District of Columbia, Distr...   \n",
       "3  1400000US11001000300  Census Tract 3, District of Columbia, District...   \n",
       "4  1400000US11001000400  Census Tract 4, District of Columbia, District...   \n",
       "\n",
       "   TotalHH AvgHHSize NonFamilyHHSize  HHChildren18  TotalHHNonFamily  \\\n",
       "0     2446      2.12            1.32           505              1239   \n",
       "1        4      2.75               -             0                 0   \n",
       "2     1672      2.15            1.78           214              1129   \n",
       "3     2563      2.37            1.99           455              1556   \n",
       "4      597      2.49            1.52           129               234   \n",
       "\n",
       "  HHOwnerOcc HHRentOcc      GEO.id2  \n",
       "0       53.5      46.5  11001000100  \n",
       "1        100         0  11001000201  \n",
       "2       65.8      34.2  11001000202  \n",
       "3       52.9      47.1  11001000300  \n",
       "4       72.9      27.1  11001000400  "
      ]
     },
     "execution_count": 4,
     "metadata": {},
     "output_type": "execute_result"
    }
   ],
   "source": [
    "df.head()"
   ]
  },
  {
   "cell_type": "code",
   "execution_count": null,
   "metadata": {
    "collapsed": true
   },
   "outputs": [],
   "source": []
  }
 ],
 "metadata": {
  "kernelspec": {
   "display_name": "Python 3",
   "language": "python",
   "name": "python3"
  },
  "language_info": {
   "codemirror_mode": {
    "name": "ipython",
    "version": 3
   },
   "file_extension": ".py",
   "mimetype": "text/x-python",
   "name": "python",
   "nbconvert_exporter": "python",
   "pygments_lexer": "ipython3",
   "version": "3.5.1"
  }
 },
 "nbformat": 4,
 "nbformat_minor": 0
}
